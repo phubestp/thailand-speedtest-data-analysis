{
  "cells": [
    {
      "cell_type": "markdown",
      "metadata": {
        "id": "view-in-github",
        "colab_type": "text"
      },
      "source": [
        "<a href=\"https://colab.research.google.com/github/phubestp/thailand-speedtest-data-analysis/blob/main/Thailand_Speedtest_Analysis.ipynb\" target=\"_parent\"><img src=\"https://colab.research.google.com/assets/colab-badge.svg\" alt=\"Open In Colab\"/></a>"
      ]
    },
    {
      "cell_type": "markdown",
      "metadata": {
        "id": "SKQ4bH7qMGrA"
      },
      "source": [
        "# Thailand Speedtest Analysis\n",
        "\n"
      ]
    },
    {
      "cell_type": "code",
      "execution_count": null,
      "metadata": {
        "id": "RGyTztrS8AXK"
      },
      "outputs": [],
      "source": [
        "!pip install geopy"
      ]
    },
    {
      "cell_type": "code",
      "execution_count": null,
      "metadata": {
        "id": "9u7Mnxw53l-d"
      },
      "outputs": [],
      "source": [
        "!pip install -q kaleido"
      ]
    },
    {
      "cell_type": "code",
      "execution_count": null,
      "metadata": {
        "id": "q3J5XXPlhf7M"
      },
      "outputs": [],
      "source": [
        "!pip install ipywidgets\n",
        "!jupyter nbextension enable --py widgetsnbextension"
      ]
    },
    {
      "cell_type": "code",
      "execution_count": null,
      "metadata": {
        "id": "YedqQD_4Xgzf"
      },
      "outputs": [],
      "source": [
        "!wget -q https://github.com/google/fonts/raw/main/ofl/sarabun/Sarabun-Regular.ttf"
      ]
    },
    {
      "cell_type": "markdown",
      "source": [
        "### Library"
      ],
      "metadata": {
        "id": "dtpnnVBnNmsU"
      }
    },
    {
      "cell_type": "code",
      "execution_count": null,
      "metadata": {
        "id": "mquAJ94bXyKa"
      },
      "outputs": [],
      "source": [
        "import os\n",
        "import db_dtypes\n",
        "import dask.dataframe as dd\n",
        "import requests\n",
        "import pandas as pd\n",
        "import numpy as np\n",
        "import matplotlib.pyplot as plt\n",
        "from dask.diagnostics import ProgressBar\n",
        "from tqdm import tqdm\n",
        "import seaborn as sns\n",
        "import matplotlib\n",
        "import matplotlib.ticker as ticker\n",
        "from geopy.distance import geodesic\n",
        "import random\n",
        "import pytz\n",
        "import geopandas as gpd\n",
        "import json\n",
        "import plotly.express as px\n",
        "import plotly.graph_objects as go\n",
        "import ipywidgets as widgets\n",
        "from IPython.display import display, HTML, clear_output\n",
        "from google.colab import output\n",
        "import matplotlib.dates as mdates\n",
        "from matplotlib.colors import ListedColormap\n",
        "from sklearn.preprocessing import StandardScaler\n",
        "from sklearn.cluster import KMeans\n",
        "from sklearn.cluster import DBSCAN"
      ]
    },
    {
      "cell_type": "code",
      "execution_count": null,
      "metadata": {
        "id": "JMHIHk49KoZr"
      },
      "outputs": [],
      "source": [
        "%reload_ext autoreload\n",
        "%autoreload 2\n",
        "output.enable_custom_widget_manager()"
      ]
    },
    {
      "cell_type": "code",
      "execution_count": null,
      "metadata": {
        "id": "x7jyBUTB6jMp"
      },
      "outputs": [],
      "source": [
        "matplotlib.font_manager.fontManager.addfont('Sarabun-Regular.ttf')\n",
        "matplotlib.rc('font', family='Sarabun')"
      ]
    },
    {
      "cell_type": "markdown",
      "source": [
        "### เตรียมข้อมูลการทดสอบ"
      ],
      "metadata": {
        "id": "TdZ-YJN3jMoo"
      }
    },
    {
      "cell_type": "code",
      "source": [
        "province_region = {\n",
        "  \"North\": [\n",
        "    \"Chiang Rai\", \"Nan\", \"Phayao\", \"Chiang Mai\", \"Mae Hong Son\",\n",
        "    \"Phrae\", \"Lampang\", \"Lamphun\", \"Uttaradit\"\n",
        "  ],\n",
        "  \"Central\": [\n",
        "    \"Bangkok\", \"Phitsanulok\", \"Sukhothai\", \"Phetchabun\", \"Phichit\",\n",
        "    \"Kamphaeng Phet\", \"Nakhon Sawan\", \"Lopburi\", \"Chai Nat\",\n",
        "    \"Uthai Thani\", \"Sing Buri\", \"Ang Thong\", \"Saraburi\",\n",
        "    \"Phra Nakhon Si Ayutthaya\", \"Suphan Buri\", \"Nakhon Nayok\",\n",
        "    \"Pathum Thani\", \"Nonthaburi\", \"Nakhon Pathom\",\n",
        "    \"Samut Prakan\", \"Samut Sakhon\", \"Samut Songkhram\"\n",
        "  ],\n",
        "  \"Northeast\": [\n",
        "    \"Nong Khai\", \"Nakhon Phanom\", \"Sakon Nakhon\", \"Udon Thani\",\n",
        "    \"Nong Bua Lam Phu\", \"Loei\", \"Mukdahan\", \"Kalasin\", \"Khon Kaen\",\n",
        "    \"Amnat Charoen\", \"Yasothon\", \"Roi Et\", \"Maha Sarakham\", \"Chaiyaphum\",\n",
        "    \"Nakhon Ratchasima\", \"Buriram\", \"Surin\", \"Si Sa Ket\", \"Ubon Ratchathani\"\n",
        "  ],\n",
        "  \"East\": [\n",
        "    \"Sa Kaeo\", \"Prachin Buri\", \"Chachoengsao\", \"Chon Buri\",\n",
        "    \"Rayong\", \"Chanthaburi\", \"Trat\"\n",
        "  ],\n",
        "  \"West\": [\n",
        "    \"Tak\", \"Kanchanaburi\", \"Ratchaburi\", \"Phetchaburi\",\n",
        "    \"Prachuap Khiri Khan\"\n",
        "  ],\n",
        "  \"South\": [\n",
        "    \"Chumphon\", \"Ranong\", \"Surat Thani\", \"Nakhon Si Thammarat\",\n",
        "    \"Krabi\", \"Phang Nga\", \"Phuket\", \"Phatthalung\", \"Trang\",\n",
        "    \"Pattani\", \"Songkhla\", \"Satun\", \"Narathiwat\", \"Yala\"\n",
        "  ]\n",
        "}\n",
        "province_to_region = {\n",
        "    province: region\n",
        "    for region, provinces in province_region.items()\n",
        "    for province in provinces\n",
        "}"
      ],
      "metadata": {
        "id": "S6TOjrWuNhb7"
      },
      "execution_count": null,
      "outputs": []
    },
    {
      "cell_type": "code",
      "execution_count": null,
      "metadata": {
        "id": "F859jgL1X3ym"
      },
      "outputs": [],
      "source": [
        "result_df = dd.read_parquet(\"/content/results_2023_2025.parquet\", blocksize=\"64MB\")"
      ]
    },
    {
      "cell_type": "code",
      "execution_count": null,
      "metadata": {
        "id": "s21E2_CQbFP9"
      },
      "outputs": [],
      "source": [
        "result_ddf = result_df.copy()\n",
        "result_ddf.compute().shape"
      ]
    },
    {
      "cell_type": "code",
      "execution_count": null,
      "metadata": {
        "id": "UHttrJB8rQxN"
      },
      "outputs": [],
      "source": [
        "result_ddf = result_ddf.map_partitions(lambda df: df.reset_index(drop=True))\n",
        "result_ddf.head()"
      ]
    },
    {
      "cell_type": "markdown",
      "metadata": {
        "id": "PwjolN9iY6jx"
      },
      "source": [
        "เปลี่ยนจากเมืองเป็นจังหวัด"
      ]
    },
    {
      "cell_type": "code",
      "execution_count": null,
      "metadata": {
        "id": "ESt5vQ89bNpV"
      },
      "outputs": [],
      "source": [
        "with open('/content/city_to_province.json') as json_data:\n",
        "    non_province_mapping = json.load(json_data)\n",
        "result_ddf[\"city\"] = result_ddf[\"city\"].str.strip().str.title()\n",
        "result_ddf = result_ddf.dropna(subset=[\"city\"])\n",
        "result_ddf[\"city\"] = result_ddf[\"city\"].map(\n",
        "    non_province_mapping, meta=('city', 'string')\n",
        ").fillna(result_ddf[\"city\"])\n",
        "print(result_ddf[\"city\"].compute().unique())"
      ]
    },
    {
      "cell_type": "code",
      "execution_count": null,
      "metadata": {
        "id": "KSAJQWNgx01o"
      },
      "outputs": [],
      "source": [
        "print(result_ddf[result_ddf[\"mean_throughput_mbps\"] == 0].compute().shape)\n",
        "result_ddf = result_ddf[result_ddf[\"mean_throughput_mbps\"] > 0]"
      ]
    },
    {
      "cell_type": "code",
      "execution_count": null,
      "metadata": {
        "id": "htfAkuucgF3M"
      },
      "outputs": [],
      "source": [
        "print(result_ddf[result_ddf[\"type\"] == \"download\"].compute().shape[0])\n",
        "print(result_ddf[result_ddf[\"type\"] == \"upload\"].compute().shape[0])"
      ]
    },
    {
      "cell_type": "code",
      "execution_count": null,
      "metadata": {
        "id": "Xiy17ol4c446"
      },
      "outputs": [],
      "source": [
        "client_df = dd.read_parquet(\"/content/client_complete.parquet\")\n",
        "client_ddf = client_df.map_partitions(lambda df: df.reset_index(drop=True))"
      ]
    },
    {
      "cell_type": "code",
      "execution_count": null,
      "metadata": {
        "id": "rJIUYYtWr7Mc"
      },
      "outputs": [],
      "source": [
        "client_ddf.dtypes"
      ]
    },
    {
      "cell_type": "code",
      "source": [
        "client_ddf = client_ddf.drop(columns=[\"mobile\", \"category\", \"network_type\", \"description\"])\n",
        "isp_info = pd.read_csv(\"/content/isp_complete.csv\")\n",
        "client_ddf = client_ddf.merge(isp_info, on=\"isp\", how=\"left\")\n",
        "client_ddf.dtypes"
      ],
      "metadata": {
        "id": "RkZ_8S9brCZp"
      },
      "execution_count": null,
      "outputs": []
    },
    {
      "cell_type": "code",
      "execution_count": null,
      "metadata": {
        "id": "oZjUz-FrjdDI"
      },
      "outputs": [],
      "source": [
        "client_ddf.head()"
      ]
    },
    {
      "cell_type": "code",
      "execution_count": null,
      "metadata": {
        "id": "wfGAgygcuiqs"
      },
      "outputs": [],
      "source": [
        "result_mapping_df = dd.merge(result_ddf, client_ddf, on=\"client_ip\", how=\"left\")\n",
        "result_mapping_df = result_mapping_df.drop(columns=[\"date\", \"congestion_control\"])\n",
        "result_mapping_df.dtypes"
      ]
    },
    {
      "cell_type": "code",
      "execution_count": null,
      "metadata": {
        "id": "ibuPYfjejyZa"
      },
      "outputs": [],
      "source": [
        "result_mapping_df.head()"
      ]
    },
    {
      "cell_type": "code",
      "execution_count": null,
      "metadata": {
        "id": "RVqDcIo2nUVR"
      },
      "outputs": [],
      "source": [
        "result_mapping_df.dtypes"
      ]
    },
    {
      "cell_type": "code",
      "execution_count": null,
      "metadata": {
        "id": "_pHMZoAt7er2"
      },
      "outputs": [],
      "source": [
        "server_info = pd.read_csv(\"/content/server_info.csv\")\n",
        "\n",
        "def is_finite(value):\n",
        "    return np.isfinite(value) and value != 0.0\n",
        "\n",
        "def get_distance(row):\n",
        "    client_x = row['latitude']\n",
        "    client_y = row['longitude']\n",
        "\n",
        "    if not is_finite(client_x) or not is_finite(client_y):\n",
        "        return np.nan\n",
        "\n",
        "    server_data = server_info.loc[server_info['server_ip'] == row['server_ip']]\n",
        "    if server_data.empty:\n",
        "        return np.nan\n",
        "\n",
        "    server_x = server_data['latitude'].values[0]\n",
        "    server_y = server_data['longitude'].values[0]\n",
        "\n",
        "    if not is_finite(server_x) or not is_finite(server_y):\n",
        "        return np.nan\n",
        "\n",
        "    try:\n",
        "        distance = geodesic((client_x, client_y), (server_x, server_y)).kilometers\n",
        "    except ValueError:\n",
        "        distance = np.nan\n",
        "\n",
        "    return distance\n",
        "\n",
        "result_mapping_df['distance_from_server'] = result_mapping_df.apply(\n",
        "    get_distance, axis=1, meta=('distance_from_server', 'float64')\n",
        ")"
      ]
    },
    {
      "cell_type": "code",
      "execution_count": null,
      "metadata": {
        "id": "2_Euf5HXN7he"
      },
      "outputs": [],
      "source": [
        "result_mapping_df.head()"
      ]
    },
    {
      "cell_type": "code",
      "execution_count": null,
      "metadata": {
        "id": "6bikoBY2i5Iw"
      },
      "outputs": [],
      "source": [
        "result_mapping_df = result_mapping_df.drop(columns=[\n",
        "    \"id\"\n",
        "])"
      ]
    },
    {
      "cell_type": "code",
      "execution_count": null,
      "metadata": {
        "id": "gK-J_4NHqlqo"
      },
      "outputs": [],
      "source": [
        "result_mapping_df[\"hour_utc\"] = result_mapping_df[\"test_time\"].dt.hour\n",
        "result_mapping_df[\"hour_th\"] = (result_mapping_df[\"hour_utc\"] + 7) % 24\n",
        "result_mapping_df[\"year\"] = result_mapping_df[\"test_time\"].dt.year\n",
        "result_mapping_df[\"month\"] = result_mapping_df[\"test_time\"].dt.month"
      ]
    },
    {
      "cell_type": "code",
      "execution_count": null,
      "metadata": {
        "id": "kVHeDkOYpSX4"
      },
      "outputs": [],
      "source": [
        "result_mapping_df['final_duration'] = result_mapping_df['speedtest_time'].fillna(result_mapping_df['duration'])"
      ]
    },
    {
      "cell_type": "code",
      "execution_count": null,
      "metadata": {
        "id": "AsJ81BXHmHa7"
      },
      "outputs": [],
      "source": [
        "result_mapping_df.head(1)"
      ]
    },
    {
      "cell_type": "code",
      "execution_count": null,
      "metadata": {
        "id": "6xYVBVzGxylq"
      },
      "outputs": [],
      "source": [
        "result_mapping_df = result_mapping_df.drop(columns=['speedtest_time', 'duration'])\n",
        "result_mapping_df = result_mapping_df.rename(columns={'final_duration': 'duration'})"
      ]
    },
    {
      "cell_type": "code",
      "execution_count": null,
      "metadata": {
        "id": "epPSTSE3jCcP"
      },
      "outputs": [],
      "source": [
        "result_mapping_df = result_mapping_df.rename(columns={\n",
        "    \"hour_th\": \"hour\",\n",
        "})\n",
        "result_mapping_df['city'] = result_mapping_df['city'].astype('category')\n",
        "result_mapping_df['isp'] = result_mapping_df['isp'].astype('category')\n",
        "result_mapping_df['type'] = result_mapping_df['type'].astype('category')\n",
        "result_mapping_df['category'] = result_mapping_df['category'].astype('category')"
      ]
    },
    {
      "cell_type": "code",
      "execution_count": null,
      "metadata": {
        "id": "v-hN6bhCRXPG"
      },
      "outputs": [],
      "source": [
        "result_mapping_df = result_mapping_df.drop(columns=[\n",
        "    \"mobile\", \"hour_utc\"\n",
        "])"
      ]
    },
    {
      "cell_type": "code",
      "source": [
        "result_mapping_df.dtypes"
      ],
      "metadata": {
        "id": "jjFqN-Ad4RyB"
      },
      "execution_count": null,
      "outputs": []
    },
    {
      "cell_type": "code",
      "source": [
        "def remove_outliers_iqr(df, group_cols, target_col):\n",
        "    def _remove(group):\n",
        "        q1 = group[target_col].quantile(0.25)\n",
        "        q3 = group[target_col].quantile(0.75)\n",
        "        iqr = q3 - q1\n",
        "        lower = q1 - 1.5 * iqr\n",
        "        upper = q3 + 1.5 * iqr\n",
        "        return group[(group[target_col] >= lower) & (group[target_col] <= upper)]\n",
        "\n",
        "    return df.groupby(group_cols, group_keys=False).apply(_remove)"
      ],
      "metadata": {
        "id": "RTKsm3DZeXxm"
      },
      "execution_count": null,
      "outputs": []
    },
    {
      "cell_type": "code",
      "source": [
        "grouped_counts = result_mapping_df.groupby([\"city\", \"network_type\", \"type\"]).size().reset_index().compute()"
      ],
      "metadata": {
        "id": "msS8iWVltVSJ"
      },
      "execution_count": null,
      "outputs": []
    },
    {
      "cell_type": "code",
      "source": [
        "valid_keys = set(tuple(x) for x in grouped_counts[grouped_counts[0] >= 30][[\"city\", \"network_type\", \"type\"]].values)\n",
        "print(valid_keys)\n",
        "def filter_valid_groups(df, valid_keys):\n",
        "    return df[df[[\"city\", \"network_type\", \"type\"]].apply(tuple, axis=1).isin(valid_keys)]\n",
        "\n",
        "filtered_result_mapping_df = result_mapping_df.map_partitions(filter_valid_groups, valid_keys)"
      ],
      "metadata": {
        "id": "bvBRLHA7upkg"
      },
      "execution_count": null,
      "outputs": []
    },
    {
      "cell_type": "markdown",
      "source": [
        "### Confidence Interval"
      ],
      "metadata": {
        "id": "HLTZEzc7_Kz0"
      }
    },
    {
      "cell_type": "code",
      "source": [
        "ci_df = filtered_result_mapping_df[[\"city\", \"network_type\", \"type\", \"mean_throughput_mbps\"]].dropna().compute()\n",
        "ci_df[\"log_throughput\"] = np.log(ci_df[\"mean_throughput_mbps\"] + 1)"
      ],
      "metadata": {
        "id": "Ht6G76Sl_PcT"
      },
      "execution_count": null,
      "outputs": []
    },
    {
      "cell_type": "code",
      "source": [
        "from scipy.stats import norm\n",
        "\n",
        "grouped = ci_df.groupby([\"city\", \"network_type\", \"type\"])[\"log_throughput\"]\n",
        "summary = grouped.agg([\"mean\", \"std\", \"count\"]).reset_index()\n",
        "z = norm.ppf(0.95)\n",
        "summary[\"margin_of_error\"] = z * summary[\"std\"] / np.sqrt(summary[\"count\"])\n",
        "summary[\"ci_lower\"] = summary[\"mean\"] - summary[\"margin_of_error\"]\n",
        "summary[\"ci_upper\"] = summary[\"mean\"] + summary[\"margin_of_error\"]"
      ],
      "metadata": {
        "id": "saKRxkTG_o8z"
      },
      "execution_count": null,
      "outputs": []
    },
    {
      "cell_type": "code",
      "source": [
        "summary[\"ci_width\"] = summary[\"ci_upper\"] - summary[\"ci_lower\"]\n",
        "summary.sort_values(\"ci_width\")"
      ],
      "metadata": {
        "id": "e5JDdgwA_-Rz"
      },
      "execution_count": null,
      "outputs": []
    },
    {
      "cell_type": "markdown",
      "source": [
        "### ดูตาม Latitude & Longtitude"
      ],
      "metadata": {
        "id": "8d4cPFKcnTon"
      }
    },
    {
      "cell_type": "code",
      "source": [
        "lat_lon_df = result_mapping_df[[\"city\", \"latitude\", \"longitude\", \"network_type\", \"type\", \"mean_throughput_mbps\"]].compute()"
      ],
      "metadata": {
        "id": "LK7-7thAnYrq"
      },
      "execution_count": null,
      "outputs": []
    },
    {
      "cell_type": "code",
      "source": [
        "lat_lon_summary_df = lat_lon_df.groupby(\n",
        "    [\"city\", \"latitude\", \"longitude\", \"network_type\", \"type\"]\n",
        ").agg(\n",
        "    mean_throughput_mbps=('mean_throughput_mbps', 'mean'),\n",
        "    count=('mean_throughput_mbps', 'count'),\n",
        ").dropna().reset_index()"
      ],
      "metadata": {
        "id": "sShJ6E8Rn1G1"
      },
      "execution_count": null,
      "outputs": []
    },
    {
      "cell_type": "code",
      "source": [
        "lat_lon_summary_df"
      ],
      "metadata": {
        "id": "LzRcVYE_oHc6"
      },
      "execution_count": null,
      "outputs": []
    },
    {
      "cell_type": "markdown",
      "source": [
        "### Correlation"
      ],
      "metadata": {
        "id": "BVMTMFwej4xZ"
      }
    },
    {
      "cell_type": "code",
      "execution_count": null,
      "metadata": {
        "id": "Nbb841OMV2yX"
      },
      "outputs": [],
      "source": [
        "columns_needed = [\n",
        "    \"mean_throughput_mbps\", \"min_rtt\", \"loss_rate\",\n",
        "    \"distance_from_server\", \"duration\"\n",
        "]\n",
        "\n",
        "df_sampled = result_mapping_df[columns_needed].sample(frac=0.03).compute()\n",
        "corr_matrix = df_sampled.corr()"
      ]
    },
    {
      "cell_type": "code",
      "execution_count": null,
      "metadata": {
        "id": "Ws_eEpv-0c5Y"
      },
      "outputs": [],
      "source": [
        "plt.figure(figsize=(8, 6))\n",
        "sns.heatmap(corr_matrix, annot=True, cmap=\"coolwarm\", fmt=\".2f\", center=0)\n",
        "plt.title(\"Correlation Matrix\")\n",
        "plt.show()"
      ]
    },
    {
      "cell_type": "markdown",
      "source": [
        "### การกระจายความเร็วในแต่ละจังหวัด"
      ],
      "metadata": {
        "id": "dypA5ZHaVqYY"
      }
    },
    {
      "cell_type": "code",
      "source": [
        "dis_df = result_mapping_df[[\"city\", \"network_type\", \"type\", \"mean_throughput_mbps\"]].compute()\n",
        "dis_df"
      ],
      "metadata": {
        "id": "y63b-H_LV1oU"
      },
      "execution_count": null,
      "outputs": []
    },
    {
      "cell_type": "markdown",
      "source": [
        "#### Broadband"
      ],
      "metadata": {
        "id": "VZRFBP3VDxNq"
      }
    },
    {
      "cell_type": "code",
      "source": [
        "broadband_df = dis_df[dis_df[\"network_type\"] == \"broadband\"]\n",
        "\n",
        "broadband_download_df = broadband_df[broadband_df[\"type\"] == \"download\"]\n",
        "broadband_upload_df = broadband_df[broadband_df[\"type\"] == \"upload\"]\n",
        "\n",
        "common_cities = set(broadband_download_df['city']).intersection(broadband_upload_df['city'])\n",
        "\n",
        "broadband_download_df = broadband_download_df[broadband_download_df['city'].isin(common_cities)]\n",
        "broadband_upload_df = broadband_upload_df[broadband_upload_df['city'].isin(common_cities)]\n",
        "\n",
        "city_counts = (\n",
        "    broadband_download_df['city']\n",
        "    .value_counts()\n",
        "    .sort_values(ascending=False)\n",
        ")\n",
        "\n",
        "city_labels = [f\"{city} ({count})\" for city, count in city_counts.items()]\n",
        "\n",
        "fig, axes = plt.subplots(2, 1, figsize=(26, 12))\n",
        "\n",
        "sns.boxplot(\n",
        "    data=broadband_download_df,\n",
        "    x='city',\n",
        "    y='mean_throughput_mbps',\n",
        "    order=city_counts.index,\n",
        "    ax=axes[0],\n",
        "    flierprops=dict(marker='o', color='gray', markersize=5, alpha=0.25),\n",
        "    palette=[\"skyblue\"],\n",
        ")\n",
        "axes[0].set_title('Download Speed (Broadband)')\n",
        "axes[0].set_xlabel('Province (with number of tests)')\n",
        "axes[0].set_ylabel('Speed (Mbps)')\n",
        "axes[0].set_xticks(range(len(city_labels)))\n",
        "axes[0].set_xticklabels(city_labels, rotation=90)\n",
        "\n",
        "sns.boxplot(\n",
        "    data=broadband_upload_df,\n",
        "    x='city',\n",
        "    y='mean_throughput_mbps',\n",
        "    order=city_counts.index,\n",
        "    ax=axes[1],\n",
        "    palette=[\"salmon\"],\n",
        "    flierprops=dict(marker='o', color='gray', markersize=5, alpha=0.25),\n",
        ")\n",
        "axes[1].set_title('Upload Speed (Broadband)')\n",
        "axes[1].set_xlabel('Province (with number of tests)')\n",
        "axes[1].set_ylabel('Speed (Mbps)')\n",
        "axes[1].set_xticks(range(len(city_labels)))\n",
        "axes[1].set_xticklabels(city_labels, rotation=90)\n",
        "\n",
        "plt.tight_layout()\n",
        "plt.show()"
      ],
      "metadata": {
        "id": "UUqp51zG8oZY"
      },
      "execution_count": null,
      "outputs": []
    },
    {
      "cell_type": "markdown",
      "source": [
        "#### Cellular"
      ],
      "metadata": {
        "id": "U7Uy4_8mEGAn"
      }
    },
    {
      "cell_type": "code",
      "source": [
        "cellular_df = dis_df[dis_df[\"network_type\"] == \"cellular\"]\n",
        "\n",
        "cellular_download_df = cellular_df[cellular_df[\"type\"] == \"download\"]\n",
        "cellular_upload_df = cellular_df[cellular_df[\"type\"] == \"upload\"]\n",
        "\n",
        "common_cities = set(cellular_download_df['city']).intersection(cellular_upload_df['city'])\n",
        "\n",
        "cellular_download_df = cellular_download_df[cellular_download_df['city'].isin(common_cities)]\n",
        "cellular_upload_df = cellular_upload_df[cellular_upload_df['city'].isin(common_cities)]\n",
        "\n",
        "city_counts = (\n",
        "    cellular_download_df['city']\n",
        "    .value_counts()\n",
        "    .sort_values(ascending=False)\n",
        ")\n",
        "\n",
        "city_labels = [f\"{city} ({count})\" for city, count in city_counts.items()]\n",
        "\n",
        "fig, axes = plt.subplots(2, 1, figsize=(26, 12))\n",
        "\n",
        "sns.boxplot(\n",
        "    data=cellular_download_df,\n",
        "    x='city',\n",
        "    y='mean_throughput_mbps',\n",
        "    order=city_counts.index,\n",
        "    ax=axes[0],\n",
        "    flierprops=dict(marker='o', color='gray', markersize=5, alpha=0.25),\n",
        "    palette=[\"skyblue\"],\n",
        "    showfliers=False\n",
        ")\n",
        "axes[0].set_title('Download Speed (Cellular)')\n",
        "axes[0].set_xlabel('Province (with number of tests)')\n",
        "axes[0].set_ylabel('Speed (Mbps)')\n",
        "axes[0].set_xticks(range(len(city_labels)))\n",
        "axes[0].set_xticklabels(city_labels, rotation=90)\n",
        "\n",
        "sns.boxplot(\n",
        "    data=cellular_upload_df,\n",
        "    x='city',\n",
        "    y='mean_throughput_mbps',\n",
        "    order=city_counts.index,\n",
        "    ax=axes[1],\n",
        "    palette=[\"salmon\"],\n",
        "    flierprops=dict(marker='o', color='gray', markersize=5, alpha=0.25),\n",
        "    showfliers=False\n",
        ")\n",
        "axes[1].set_title('Upload Speed (Cellular)')\n",
        "axes[1].set_xlabel('Province (with number of tests)')\n",
        "axes[1].set_ylabel('Speed (Mbps)')\n",
        "axes[1].set_xticks(range(len(city_labels)))\n",
        "axes[1].set_xticklabels(city_labels, rotation=90)\n",
        "\n",
        "for label in axes[0].get_xticklabels():\n",
        "    text = label.get_text()\n",
        "    city_name = text.split(' (')[0]\n",
        "    count = int(text.split('(')[1].replace(')', ''))\n",
        "    if count == 0:\n",
        "        label.set_color('red')\n",
        "\n",
        "for label in axes[1].get_xticklabels():\n",
        "    text = label.get_text()\n",
        "    city_name = text.split(' (')[0]\n",
        "    count = int(text.split('(')[1].replace(')', ''))\n",
        "    if count == 0:\n",
        "        label.set_color('red')\n",
        "\n",
        "plt.tight_layout()\n",
        "plt.show()"
      ],
      "metadata": {
        "id": "O4dxDKC3EKYJ"
      },
      "execution_count": null,
      "outputs": []
    },
    {
      "cell_type": "markdown",
      "source": [
        "### จังหวัดที่ความเร็วเฉลี่ยสูงที่สุดและต่ำที่สุด"
      ],
      "metadata": {
        "id": "r1EqcjKpyfcm"
      }
    },
    {
      "cell_type": "code",
      "source": [
        "result_mapping_agg_df = result_mapping_df.groupby(\n",
        "    ['city', 'type', 'network_type']\n",
        ").agg(\n",
        "    median_throughput_mbps=('mean_throughput_mbps', 'median'),\n",
        "    count=('mean_throughput_mbps', 'count'),\n",
        ").compute().dropna().reset_index()"
      ],
      "metadata": {
        "id": "bbu9KHCfv2qi"
      },
      "execution_count": null,
      "outputs": []
    },
    {
      "cell_type": "code",
      "source": [
        "result_mapping_agg_df = result_mapping_agg_df[result_mapping_agg_df[\"count\"] >= 30]"
      ],
      "metadata": {
        "id": "bFeEL0z_WJR1"
      },
      "execution_count": null,
      "outputs": []
    },
    {
      "cell_type": "code",
      "source": [
        "top_fastest_by_group = result_mapping_agg_df.groupby(['type', 'network_type']).apply(\n",
        "    lambda x: x.sort_values(by='median_throughput_mbps', ascending=False).head(10)\n",
        ").reset_index(drop=True)\n",
        "\n",
        "top_slowest_by_group = result_mapping_agg_df.groupby(['type', 'network_type']).apply(\n",
        "    lambda x: x.sort_values(by='median_throughput_mbps', ascending=True).head(10)\n",
        ").reset_index(drop=True)"
      ],
      "metadata": {
        "id": "RFyzPN_UyqZI"
      },
      "execution_count": null,
      "outputs": []
    },
    {
      "cell_type": "code",
      "source": [
        "result_mapping_agg_df"
      ],
      "metadata": {
        "id": "BHsNft5DZZKl"
      },
      "execution_count": null,
      "outputs": []
    },
    {
      "cell_type": "markdown",
      "source": [
        "#### เร็วที่สุด"
      ],
      "metadata": {
        "id": "dAgf-Pdx2cpN"
      }
    },
    {
      "cell_type": "code",
      "source": [
        "fig, axes = plt.subplots(4, 1, figsize=(12, 18))\n",
        "\n",
        "types = ['download', 'download', 'upload', 'upload']\n",
        "network_types = ['broadband', 'cellular', 'broadband', 'cellular']\n",
        "titles = [\n",
        "  \"Top 10 Provinces with Fastest Download Speeds (Broadband)\",\n",
        "  \"Top 10 Provinces with Fastest Download Speeds (Cellular)\",\n",
        "  \"Top 10 Provinces with Fastest Upload Speeds (Broadband)\",\n",
        "  \"Top 10 Provinces with Fastest Upload Speeds (Cellular)\",\n",
        "]\n",
        "\n",
        "type_colors = {\n",
        "    'download': 'skyblue',\n",
        "    'upload': 'salmon'\n",
        "}\n",
        "\n",
        "for i, (t, c, title) in enumerate(zip(types, network_types, titles)):\n",
        "    subset = top_fastest_by_group[\n",
        "        (top_fastest_by_group['type'] == t) &\n",
        "        (top_fastest_by_group['network_type'] == c)\n",
        "    ]\n",
        "\n",
        "    bars = axes[i].barh(\n",
        "        subset['city'],\n",
        "        subset['median_throughput_mbps'],\n",
        "        color=type_colors[t]\n",
        "    )\n",
        "    axes[i].bar_label(bars, fmt='%.1f', padding=3)\n",
        "    axes[i].set_xlabel('Median Throughput (Mbps)')\n",
        "    axes[i].set_title(title)\n",
        "    axes[i].invert_yaxis()\n",
        "\n",
        "plt.tight_layout()\n",
        "plt.show()"
      ],
      "metadata": {
        "id": "quBQ68ZryzRJ"
      },
      "execution_count": null,
      "outputs": []
    },
    {
      "cell_type": "markdown",
      "source": [
        "#### ช้าที่สุด"
      ],
      "metadata": {
        "id": "w0TA_6fQ2oXF"
      }
    },
    {
      "cell_type": "code",
      "source": [
        "fig, axes = plt.subplots(4, 1, figsize=(12, 18))\n",
        "\n",
        "types = ['download', 'download', 'upload', 'upload']\n",
        "network_types = ['broadband', 'cellular', 'broadband', 'cellular']\n",
        "titles = [\n",
        "  \"Top 10 Provinces with Slowest Download Speeds (Broadband)\",\n",
        "  \"Top 10 Provinces with Slowest Download Speeds (Cellular)\",\n",
        "  \"Top 10 Provinces with Slowest Upload Speeds (Broadband)\",\n",
        "  \"Top 10 Provinces with Slowest Upload Speeds (Cellular)\",\n",
        "]\n",
        "\n",
        "type_colors = {\n",
        "    'download': 'skyblue',\n",
        "    'upload': 'salmon'\n",
        "}\n",
        "\n",
        "for i, (t, c, title) in enumerate(zip(types, network_types, titles)):\n",
        "    subset = top_slowest_by_group[\n",
        "        (top_slowest_by_group['type'] == t) &\n",
        "        (top_slowest_by_group['network_type'] == c)\n",
        "    ]\n",
        "\n",
        "    bars = axes[i].barh(\n",
        "        subset['city'],\n",
        "        subset['median_throughput_mbps'],\n",
        "        color=type_colors[t]\n",
        "    )\n",
        "    axes[i].bar_label(bars, fmt='%.1f', padding=3)\n",
        "    axes[i].set_xlabel('Median Throughput (Mbps)')\n",
        "    axes[i].set_title(title)\n",
        "    axes[i].invert_yaxis()\n",
        "\n",
        "plt.tight_layout()\n",
        "plt.show()"
      ],
      "metadata": {
        "id": "PUtedIAQ2Hg7"
      },
      "execution_count": null,
      "outputs": []
    },
    {
      "cell_type": "markdown",
      "source": [
        "### ดูการเปลี่ยนแปลงแต่ละเดือนรายจังหวัด"
      ],
      "metadata": {
        "id": "2JTXMOaN3tnj"
      }
    },
    {
      "cell_type": "code",
      "source": [
        "df = result_mapping_df[[\"city\", \"year\", \"month\", \"type\", \"network_type\", \"mean_throughput_mbps\"]].compute()\n",
        "\n",
        "df = remove_outliers_iqr(df, [\"city\", \"year\", \"month\", \"type\", \"network_type\"], \"mean_throughput_mbps\")\n",
        "\n",
        "monthly_city_df = df.groupby(\n",
        "    ['city', 'year', 'month', 'type', 'network_type']\n",
        ").agg(\n",
        "    mean_throughput_mbps=('mean_throughput_mbps', 'mean'),\n",
        "    count=('mean_throughput_mbps', 'count')\n",
        ").reset_index()\n"
      ],
      "metadata": {
        "id": "rvIFbIusjvlG"
      },
      "execution_count": null,
      "outputs": []
    },
    {
      "cell_type": "code",
      "source": [
        "monthly_city_df = monthly_city_df.reset_index()\n",
        "\n",
        "monthly_city_df['period'] = pd.to_datetime(\n",
        "    monthly_city_df['year'].astype(str) + '-' +\n",
        "    monthly_city_df['month'].astype(str).str.zfill(2) + '-01'\n",
        ")"
      ],
      "metadata": {
        "id": "OezAAGnH4RJc"
      },
      "execution_count": null,
      "outputs": []
    },
    {
      "cell_type": "code",
      "source": [
        "monthly_city_df[\"region\"] = monthly_city_df[\"city\"].map(province_region)"
      ],
      "metadata": {
        "id": "oLNUB6MpOLzT"
      },
      "execution_count": null,
      "outputs": []
    },
    {
      "cell_type": "code",
      "source": [
        "monthly_city_df[\"province_normalized\"] = monthly_city_df[\"city\"].str.strip().str.title()\n",
        "monthly_city_df[\"region\"] = monthly_city_df[\"province_normalized\"].map(province_to_region)"
      ],
      "metadata": {
        "id": "ZFW1QaSpOpkr"
      },
      "execution_count": null,
      "outputs": []
    },
    {
      "cell_type": "code",
      "source": [
        "start_date = pd.to_datetime('2023-12-01')\n",
        "end_date = pd.to_datetime('2025-03-01')\n",
        "\n",
        "monthly_city_df[\"province_normalized\"] = monthly_city_df[\"city\"].str.strip().str.title()\n",
        "province_to_region = {\n",
        "    province: region\n",
        "    for region, provinces in province_region.items()\n",
        "    for province in provinces\n",
        "}\n",
        "monthly_city_df[\"region\"] = monthly_city_df[\"province_normalized\"].map(province_to_region)\n",
        "\n",
        "filtered_df = monthly_city_df[\n",
        "    (monthly_city_df['period'] >= start_date) &\n",
        "    (monthly_city_df['period'] <= end_date) &\n",
        "    (~monthly_city_df['mean_throughput_mbps'].isna())\n",
        "].copy()\n",
        "\n",
        "global_y_min = filtered_df['mean_throughput_mbps'].min() * 0.95\n",
        "global_y_max = filtered_df['mean_throughput_mbps'].max() * 1.05\n",
        "\n",
        "network_types = filtered_df['network_type'].dropna().unique()\n",
        "\n",
        "for net_type in sorted(network_types):\n",
        "    df_network = filtered_df[filtered_df['network_type'] == net_type]\n",
        "    regions = df_network['region'].dropna().unique()\n",
        "\n",
        "    for region in sorted(regions):\n",
        "        df_region = df_network[df_network['region'] == region]\n",
        "        provinces = sorted(df_region['province_normalized'].unique())\n",
        "        chunk_size = 5\n",
        "\n",
        "        for i in range(0, len(provinces), chunk_size):\n",
        "            subset = provinces[i:i + chunk_size]\n",
        "            fig, (ax1, ax2) = plt.subplots(1, 2, figsize=(16, 6))\n",
        "\n",
        "            dl_avg = (\n",
        "                df_region[df_region['type'] == 'download']\n",
        "                .groupby('period')['mean_throughput_mbps']\n",
        "                .mean().reset_index()\n",
        "            )\n",
        "            ul_avg = (\n",
        "                df_region[df_region['type'] == 'upload']\n",
        "                .groupby('period')['mean_throughput_mbps']\n",
        "                .mean().reset_index()\n",
        "            )\n",
        "\n",
        "            colors = sns.color_palette(\"Set2\", len(subset))\n",
        "\n",
        "            for idx, province in enumerate(subset):\n",
        "                df_p = df_region[df_region['province_normalized'] == province].sort_values('period')\n",
        "                ax1.plot(\n",
        "                    df_p[df_p['type'] == 'download']['period'],\n",
        "                    df_p[df_p['type'] == 'download']['mean_throughput_mbps'],\n",
        "                    marker='o',\n",
        "                    linewidth=1.5,\n",
        "                    label=province,\n",
        "                    color=colors[idx]\n",
        "                )\n",
        "                ax2.plot(\n",
        "                    df_p[df_p['type'] == 'upload']['period'],\n",
        "                    df_p[df_p['type'] == 'upload']['mean_throughput_mbps'],\n",
        "                    marker='s',\n",
        "                    linestyle='--',\n",
        "                    linewidth=1.5,\n",
        "                    label=province,\n",
        "                    color=colors[idx]\n",
        "                )\n",
        "\n",
        "            ax1.plot(dl_avg['period'], dl_avg['mean_throughput_mbps'], color='black', linestyle=':', linewidth=2, label='Regional Download Speed Avg')\n",
        "            ax2.plot(ul_avg['period'], ul_avg['mean_throughput_mbps'], color='black', linestyle=':', linewidth=2, label='Regional Upload Speed Avg')\n",
        "\n",
        "            for ax, title in zip((ax1, ax2), ['Download Speed', 'Upload Speed']):\n",
        "                ax.set_title(title)\n",
        "                ax.set_xlabel('Month')\n",
        "                ax.set_ylabel('Mean Speed (Mbps)')\n",
        "                ax.set_xlim([start_date, end_date])\n",
        "                ax.xaxis.set_major_locator(mdates.MonthLocator(interval=2))\n",
        "                ax.xaxis.set_major_formatter(mdates.DateFormatter('%b %Y'))\n",
        "                ax.tick_params(axis='x', rotation=45)\n",
        "                ax.grid(True)\n",
        "\n",
        "            ax1.legend(title='Province', bbox_to_anchor=(1.05, 1), loc='upper left')\n",
        "            ax2.legend(title='Province', bbox_to_anchor=(1.05, 1), loc='upper left')\n",
        "\n",
        "            start_num = i + 1\n",
        "            end_num = i + len(subset)\n",
        "\n",
        "            if start_num == end_num:\n",
        "                province_range = f'Province {start_num}'\n",
        "            else:\n",
        "                province_range = f'Provinces {start_num}-{end_num}'\n",
        "            ax1.set_ylim(global_y_min, global_y_max)\n",
        "            ax2.set_ylim(global_y_min, global_y_max)\n",
        "            plt.suptitle(f'{region} Region - {net_type.capitalize()} - {province_range}', fontsize=16)\n",
        "            plt.tight_layout(rect=[0, 0.03, 1, 0.95])\n",
        "            plt.show()"
      ],
      "metadata": {
        "id": "r7s0tcDv4-4a"
      },
      "execution_count": null,
      "outputs": []
    },
    {
      "cell_type": "markdown",
      "source": [
        "### จำนวนการทดสอบของแต่ละจังหวัด"
      ],
      "metadata": {
        "id": "-DHjmDdOiSCB"
      }
    },
    {
      "cell_type": "code",
      "source": [
        "test_count = result_mapping_df.groupby(\"city\").size().compute().sort_values()\n",
        "\n",
        "plt.figure(figsize=(12, 12))\n",
        "bars = plt.barh(test_count.index, test_count.values, color=\"royalblue\")\n",
        "plt.xscale(\"log\")\n",
        "\n",
        "tick_positions = [10, 100, 1_000, 10_000, 100_000, 1_000_000]\n",
        "plt.xticks(tick_positions, [f\"{int(tick):,}\" for tick in tick_positions], fontsize=12)\n",
        "\n",
        "for bar, value in zip(bars, test_count.values):\n",
        "    text_offset = value * 0.05\n",
        "    plt.text(\n",
        "        value + text_offset,\n",
        "        bar.get_y() + bar.get_height() / 2,\n",
        "        f\"{int(value):,}\",\n",
        "        va=\"center\", ha=\"left\", fontsize=8, color=\"black\"\n",
        "    )\n",
        "\n",
        "plt.title(\"Test Count by Province\", fontsize=16)\n",
        "plt.xlabel(\"Test Count\", fontsize=14)\n",
        "plt.ylabel(\"Province\", fontsize=12)\n",
        "plt.yticks(fontsize=8)\n",
        "plt.grid(axis=\"x\", linestyle=\"--\", alpha=0.7)\n",
        "plt.tight_layout()\n",
        "plt.show()"
      ],
      "metadata": {
        "id": "cE8EPFzMFiEp"
      },
      "execution_count": null,
      "outputs": []
    },
    {
      "cell_type": "markdown",
      "metadata": {
        "id": "DpQoNPvmZATp"
      },
      "source": [
        "### จำนวนไอพีผู้ทดสอบในแต่ละจังหวัด"
      ]
    },
    {
      "cell_type": "code",
      "execution_count": null,
      "metadata": {
        "id": "aLUaesaXT7oe"
      },
      "outputs": [],
      "source": [
        "unique_client_count = result_mapping_df.groupby(\"city\")[\"client_ip\"].nunique().compute()"
      ]
    },
    {
      "cell_type": "code",
      "execution_count": null,
      "metadata": {
        "id": "9I0JzKYlm-2k"
      },
      "outputs": [],
      "source": [
        "print(unique_client_count.sum())"
      ]
    },
    {
      "cell_type": "code",
      "execution_count": null,
      "metadata": {
        "id": "hf6qcgNwVMaS"
      },
      "outputs": [],
      "source": [
        "unique_client_count = unique_client_count.sort_values(ascending=True)\n",
        "\n",
        "plt.figure(figsize=(12, 12))\n",
        "x = np.arange(len(unique_client_count.index))\n",
        "\n",
        "bars = plt.barh(x, unique_client_count.values, color=\"royalblue\")\n",
        "\n",
        "plt.xscale(\"log\")\n",
        "\n",
        "tick_positions = [10, 100, 1_000, 10_000, 100_000, 1_000_000]\n",
        "plt.xticks(tick_positions, [f\"{int(tick):,}\" for tick in tick_positions], fontsize=12)\n",
        "\n",
        "for bar, value in zip(bars, unique_client_count.values):\n",
        "    text_offset = value * 0.05\n",
        "    plt.text(\n",
        "        value + text_offset,\n",
        "        bar.get_y() + bar.get_height() / 2,\n",
        "        f\"{int(value):,}\",\n",
        "        va=\"center\", ha=\"left\", fontsize=8, color=\"black\"\n",
        "    )\n",
        "\n",
        "plt.title(\"Unique Client IP Count by Province\", fontsize=16)\n",
        "plt.xlabel(\"Unique Client IP Count\", fontsize=14)\n",
        "plt.ylabel(\"Province\", fontsize=12)\n",
        "\n",
        "plt.yticks(x, unique_client_count.index, fontsize=8)\n",
        "plt.grid(axis=\"x\", linestyle=\"--\", alpha=0.7)\n",
        "\n",
        "plt.tight_layout()\n",
        "plt.show()"
      ]
    },
    {
      "cell_type": "code",
      "execution_count": null,
      "metadata": {
        "id": "4uSq1pMEzd3O"
      },
      "outputs": [],
      "source": [
        "unique_client_count = result_mapping_df.groupby(\"city\")[\"client_ip\"].nunique().compute().reset_index(name=\"count\")\n",
        "unique_client_count = unique_client_count.sort_values(by=\"count\", ascending=False).head(10)\n",
        "\n",
        "plt.figure(figsize=(12, 8))\n",
        "x = np.arange(len(unique_client_count.index))\n",
        "\n",
        "bars = plt.barh(x, unique_client_count[\"count\"].values, color=\"royalblue\")\n",
        "\n",
        "plt.xscale(\"log\")\n",
        "\n",
        "tick_positions = [10, 100, 1_000, 10_000, 100_000, 1_000_000]\n",
        "plt.xticks(tick_positions, [f\"{int(tick):,}\" for tick in tick_positions], fontsize=12)\n",
        "\n",
        "for bar, value in zip(bars, unique_client_count[\"count\"].values):\n",
        "    text_offset = value * 0.05\n",
        "    plt.text(\n",
        "        value + text_offset,\n",
        "        bar.get_y() + bar.get_height() / 2,\n",
        "        f\"{int(value):,}\",\n",
        "        va=\"center\", ha=\"left\", fontsize=8, color=\"black\"\n",
        "    )\n",
        "\n",
        "plt.title(\"Unique Client IP Count by Province\", fontsize=16)\n",
        "plt.xlabel(\"Unique Client IP Count\", fontsize=14)\n",
        "plt.ylabel(\"Province\", fontsize=12)\n",
        "\n",
        "plt.yticks(x, unique_client_count.index, fontsize=8)\n",
        "plt.grid(axis=\"x\", linestyle=\"--\", alpha=0.7)\n",
        "\n",
        "plt.tight_layout()\n",
        "plt.show()"
      ]
    },
    {
      "cell_type": "code",
      "source": [
        "test_counts_df = result_mapping_df.groupby([\"city\"]).size().compute()\n",
        "test_counts_df = test_counts_df.reset_index(name=\"count\")\n",
        "test_counts_df = test_counts_df.sort_values(by=\"count\", ascending=False)"
      ],
      "metadata": {
        "id": "VbtqOTMzimBT"
      },
      "execution_count": null,
      "outputs": []
    },
    {
      "cell_type": "markdown",
      "metadata": {
        "id": "F-WKG09Grxwl"
      },
      "source": [
        "### ข้อมูลเกี่ยวกับ Server ที่ใช้ทดสอบ"
      ]
    },
    {
      "cell_type": "code",
      "execution_count": null,
      "metadata": {
        "id": "Iw-ya-nxsTsL"
      },
      "outputs": [],
      "source": [
        "server_info_df = result_mapping_df.groupby([\"server_ip\"]).size().compute()\n",
        "server_info_df = server_info_df.reset_index(name=\"count\")\n",
        "server_info_df"
      ]
    },
    {
      "cell_type": "code",
      "execution_count": null,
      "metadata": {
        "id": "zoTPHL2htJRi"
      },
      "outputs": [],
      "source": [
        "server_counts = server_info_df.merge(server_info, how=\"left\", on=\"server_ip\")\n",
        "server_counts.dtypes"
      ]
    },
    {
      "cell_type": "code",
      "execution_count": null,
      "metadata": {
        "id": "shEO3B_JvdEk"
      },
      "outputs": [],
      "source": [
        "print(len(server_info['country_code'].unique()))"
      ]
    },
    {
      "cell_type": "code",
      "execution_count": null,
      "metadata": {
        "id": "jSskDeyBtzSS"
      },
      "outputs": [],
      "source": [
        "!pip install folium --quiet"
      ]
    },
    {
      "cell_type": "code",
      "execution_count": null,
      "metadata": {
        "id": "HEFAmdNpswMF"
      },
      "outputs": [],
      "source": [
        "import folium\n",
        "import branca.colormap as cm\n",
        "import numpy as np\n",
        "\n",
        "grouped_pd = server_counts.groupby(['latitude', 'longitude', 'country_code'])['count'].sum().reset_index()\n",
        "center_lat = grouped_pd['latitude'].mean()\n",
        "center_lon = grouped_pd['longitude'].mean()\n",
        "grouped_pd = grouped_pd.dropna(subset=['count'])\n",
        "\n",
        "log_counts = np.log1p(grouped_pd['count'])\n",
        "vmin = log_counts.min()\n",
        "vmax = log_counts.max()\n",
        "\n",
        "colormap = cm.LinearColormap(\n",
        "    colors=list(reversed(cm.linear.RdYlBu_09.colors)),\n",
        "    vmin=vmin,\n",
        "    vmax=vmax\n",
        ")\n",
        "\n",
        "colormap.caption = \"Server Count\"\n",
        "\n",
        "m = folium.Map(location=[center_lat, center_lon], zoom_start=4)\n",
        "\n",
        "for _, row in grouped_pd.iterrows():\n",
        "    folium.CircleMarker(\n",
        "        location=[row['latitude'], row['longitude']],\n",
        "        radius=5,\n",
        "        color=colormap(np.log1p(row['count'])),\n",
        "        fill=True,\n",
        "        fill_opacity=0.8,\n",
        "        popup=folium.Popup(\n",
        "            f\"<b>Country:</b> {row['country_code']}<br>\"\n",
        "            f\"<b>Count:</b> {row['count']:,}\",\n",
        "            max_width=300\n",
        "        )\n",
        "    ).add_to(m)\n",
        "\n",
        "colormap.add_to(m)\n",
        "m"
      ]
    },
    {
      "cell_type": "code",
      "source": [
        "grouped_pd = server_counts.groupby(['server_ip', 'country_code'])['count'].sum().reset_index()\n",
        "grouped_pd.sort_values(by='count', ascending=False, inplace=True)\n",
        "grouped_pd.head(20)"
      ],
      "metadata": {
        "id": "HBEQGgZZW8_A"
      },
      "execution_count": null,
      "outputs": []
    },
    {
      "cell_type": "markdown",
      "metadata": {
        "id": "Iw5bOc9UG4lX"
      },
      "source": [
        "### การกระจายตัวของประเภท ISP ของแต่ละจังหวัด"
      ]
    },
    {
      "cell_type": "code",
      "execution_count": null,
      "metadata": {
        "id": "SnKfNJ-83OkP"
      },
      "outputs": [],
      "source": [
        "grouped_counts = result_mapping_df.groupby([\"city\", \"category\"]).size().compute()\n",
        "grouped_counts_df = grouped_counts.reset_index(name=\"count\")\n",
        "pivot_category_df = grouped_counts_df.pivot(index=\"city\", columns=\"category\", values=\"count\").fillna(0)\n",
        "pivot_category_df"
      ]
    },
    {
      "cell_type": "code",
      "execution_count": null,
      "metadata": {
        "id": "fZrWnQgH4G9j"
      },
      "outputs": [],
      "source": [
        "pivot_category = pivot_category_df.reset_index().set_index(\"city\").T\n",
        "\n",
        "pivot_clipped = pivot_category.clip(upper=100000)\n",
        "pivot_log = np.log1p(pivot_clipped)\n",
        "\n",
        "fig, ax = plt.subplots(figsize=(30, 12))\n",
        "\n",
        "sns.heatmap(\n",
        "    pivot_log,\n",
        "    cmap=\"YlGnBu\",\n",
        "    annot=False,\n",
        "    linewidths=0.25,\n",
        "    ax=ax,\n",
        "    cbar_kws={'label': 'Log(Count + 1)'}\n",
        ")\n",
        "\n",
        "ax.set_title(\"Heatmap of Category by Province\", fontsize=18)\n",
        "ax.set_xlabel(\"Province\", fontsize=14)\n",
        "ax.set_ylabel(\"Category\", fontsize=14)\n",
        "\n",
        "plt.xticks(rotation=90, ha='right', fontsize=12)\n",
        "plt.yticks(fontsize=12)\n",
        "\n",
        "ax.grid(which='major', linestyle='--', linewidth=0.5)\n",
        "\n",
        "plt.tight_layout()\n",
        "plt.show()"
      ]
    },
    {
      "cell_type": "markdown",
      "metadata": {
        "id": "aJCugHd0T1CG"
      },
      "source": [
        "### เวลาในการทดสอบ และความเร็วที่ได้ในแต่ละจังหวัด"
      ]
    },
    {
      "cell_type": "markdown",
      "metadata": {
        "id": "NzQwGmTa8Q0m"
      },
      "source": [
        "#### Broadband"
      ]
    },
    {
      "cell_type": "code",
      "execution_count": null,
      "metadata": {
        "id": "0LoGzheQUQGg"
      },
      "outputs": [],
      "source": [
        "province_hour_broadband_df = result_mapping_df.copy()[[\n",
        "    'city', 'test_time', 'network_type', 'hour',\n",
        "    'mean_throughput_mbps', 'type'\n",
        "]].compute()\n",
        "\n",
        "province_hour_broadband_df = remove_outliers_iqr(province_hour_broadband_df, ['city', 'hour', 'type', 'network_type'], 'mean_throughput_mbps')\n",
        "\n",
        "province_hour_broadband_df = province_hour_broadband_df[\n",
        "    province_hour_broadband_df[\"network_type\"] == \"broadband\"\n",
        "]\n",
        "\n",
        "numeric_cols = province_hour_broadband_df.select_dtypes(include='number').columns\n",
        "\n",
        "province_hour_broadband_df = province_hour_broadband_df.groupby(['city', 'hour', 'type'])[numeric_cols].mean()\n",
        "\n",
        "province_hour_broadband_df.head()"
      ]
    },
    {
      "cell_type": "code",
      "execution_count": null,
      "metadata": {
        "id": "yPNrAjReaf3z"
      },
      "outputs": [],
      "source": [
        "if \"hour\" in province_hour_broadband_df.columns:\n",
        "    province_hour_broadband_df = province_hour_broadband_df.drop(columns=[\"hour\"])\n",
        "\n",
        "pivot_hour_broadband = province_hour_broadband_df.pivot_table(\n",
        "    index=\"city\",\n",
        "    columns=[\"type\", \"hour\"],\n",
        "    values=\"mean_throughput_mbps\",\n",
        "    aggfunc=\"mean\"\n",
        ")"
      ]
    },
    {
      "cell_type": "code",
      "source": [
        "pivot_hour_broadband.columns = [f\"{t}_{h}\" for t, h in pivot_hour_broadband.columns]"
      ],
      "metadata": {
        "id": "bimx5AfaZnb1"
      },
      "execution_count": null,
      "outputs": []
    },
    {
      "cell_type": "code",
      "source": [
        "pivot_hour_broadband.dtypes"
      ],
      "metadata": {
        "id": "E1pnWoGCE_am"
      },
      "execution_count": null,
      "outputs": []
    },
    {
      "cell_type": "code",
      "execution_count": null,
      "metadata": {
        "id": "WBVxIQIEbjes"
      },
      "outputs": [],
      "source": [
        "hour_d_broadband = pivot_hour_broadband[[col for col in pivot_hour_broadband.columns if col.startswith(\"download_\")]]\n",
        "hour_u_broadband = pivot_hour_broadband[[col for col in pivot_hour_broadband.columns if col.startswith(\"upload_\")]]\n",
        "\n",
        "hour_d_broadband.columns = [int(col.replace(\"download_\", \"\")) for col in hour_d_broadband.columns]\n",
        "hour_u_broadband.columns = [int(col.replace(\"upload_\", \"\")) for col in hour_u_broadband.columns]\n",
        "max_height = 20\n",
        "\n",
        "plt.figure(figsize=(10, min(len(df) / 4, max_height)))\n",
        "sns.heatmap(hour_d_broadband, cmap=\"RdYlBu_r\", linewidths=0.5, robust=True)\n",
        "plt.title(\"Mean Download Speed (Mbps) by Province and Hour (Broadband)\", fontsize=12)\n",
        "plt.xlabel(\"Hour\")\n",
        "plt.ylabel(\"Province\")\n",
        "plt.yticks(fontsize=8)\n",
        "plt.tight_layout()\n",
        "plt.show()\n",
        "\n",
        "plt.figure(figsize=(10, min(len(df) / 4, max_height)))\n",
        "sns.heatmap(hour_u_broadband, cmap=\"RdYlBu_r\", linewidths=0.5, robust=True)\n",
        "plt.title(\"Mean Upload Speed (Mbps) by Province and Hour (Broadband)\", fontsize=12)\n",
        "plt.xlabel(\"Hour\")\n",
        "plt.ylabel(\"Province\")\n",
        "plt.yticks(fontsize=8)\n",
        "plt.tight_layout()\n",
        "plt.show()"
      ]
    },
    {
      "cell_type": "markdown",
      "metadata": {
        "id": "9PG-ryEm8MSt"
      },
      "source": [
        "#### Cellular"
      ]
    },
    {
      "cell_type": "code",
      "execution_count": null,
      "metadata": {
        "id": "sp-JkDZfeKVy"
      },
      "outputs": [],
      "source": [
        "province_hour_mobile_df = result_mapping_df.copy()[[\n",
        "    'city', 'test_time', 'network_type', 'hour',\n",
        "    'mean_throughput_mbps', 'type'\n",
        "]].compute()\n",
        "\n",
        "province_hour_mobile_df = remove_outliers_iqr(province_hour_mobile_df, ['city', 'hour', 'type', 'network_type'], 'mean_throughput_mbps')\n",
        "\n",
        "province_hour_mobile_df = province_hour_mobile_df[\n",
        "    province_hour_mobile_df[\"network_type\"] == \"cellular\"\n",
        "]\n",
        "\n",
        "numeric_cols = province_hour_mobile_df.select_dtypes(include='number').columns\n",
        "\n",
        "province_hour_mobile_df = province_hour_mobile_df.groupby(['city', 'hour', 'type'])[numeric_cols].mean()"
      ]
    },
    {
      "cell_type": "code",
      "execution_count": null,
      "metadata": {
        "id": "DcogSXNdef1a"
      },
      "outputs": [],
      "source": [
        "if \"hour\" in province_hour_mobile_df.columns:\n",
        "    province_hour_mobile_df = province_hour_mobile_df.drop(columns=[\"hour\"])\n",
        "\n",
        "pivot_hour_mobile = province_hour_mobile_df.pivot_table(\n",
        "    index=\"city\",\n",
        "    columns=[\"type\", \"hour\"],\n",
        "    values=\"mean_throughput_mbps\",\n",
        "    aggfunc=\"mean\"\n",
        ")"
      ]
    },
    {
      "cell_type": "code",
      "source": [
        "pivot_hour_mobile.columns = [f\"{t}_{h}\" for t, h in pivot_hour_mobile.columns]"
      ],
      "metadata": {
        "id": "FCAenf2uJBBe"
      },
      "execution_count": null,
      "outputs": []
    },
    {
      "cell_type": "code",
      "execution_count": null,
      "metadata": {
        "id": "juWJXe7OelnT"
      },
      "outputs": [],
      "source": [
        "hour_d_mobile = pivot_hour_mobile[[col for col in pivot_hour_mobile.columns if col.startswith(\"download_\")]]\n",
        "hour_u_mobile = pivot_hour_mobile[[col for col in pivot_hour_mobile.columns if col.startswith(\"upload_\")]]\n",
        "\n",
        "hour_d_mobile.columns = [int(col.replace(\"download_\", \"\")) for col in hour_d_mobile.columns]\n",
        "hour_u_mobile.columns = [int(col.replace(\"upload_\", \"\")) for col in hour_u_mobile.columns]\n",
        "max_height = 20\n",
        "\n",
        "plt.figure(figsize=(10, min(len(df) / 4, max_height)))\n",
        "sns.heatmap(hour_d_mobile, cmap=\"RdYlBu_r\", linewidths=0.5, robust=True)\n",
        "plt.title(\"Mean Download Speed (Mbps) by Province and Hour (Cellular)\", fontsize=12)\n",
        "plt.xlabel(\"Hour\")\n",
        "plt.ylabel(\"Province\")\n",
        "plt.yticks(fontsize=8)\n",
        "plt.tight_layout()\n",
        "plt.show()\n",
        "\n",
        "plt.figure(figsize=(10, min(len(df) / 4, max_height)))\n",
        "sns.heatmap(hour_u_mobile, cmap=\"RdYlBu_r\", linewidths=0.5, robust=True)\n",
        "plt.title(\"Mean Upload Speed (Mbps) by Province and Hour (Cellular)\", fontsize=12)\n",
        "plt.xlabel(\"Hour\")\n",
        "plt.ylabel(\"Province\")\n",
        "plt.yticks(fontsize=8)\n",
        "plt.tight_layout()\n",
        "plt.show()"
      ]
    },
    {
      "cell_type": "markdown",
      "metadata": {
        "id": "-dnQlqWtgaho"
      },
      "source": [
        "### แผนที่ประเทศไทยแสดงการเปลี่ยนแปลงของ Throughput"
      ]
    },
    {
      "cell_type": "code",
      "execution_count": null,
      "metadata": {
        "id": "lFc3dIEez8pX"
      },
      "outputs": [],
      "source": [
        "tha_map = gpd.read_file(\"/content/THA_MAP.shx\")"
      ]
    },
    {
      "cell_type": "code",
      "execution_count": null,
      "metadata": {
        "id": "yXLQ5RrFlD4_"
      },
      "outputs": [],
      "source": [
        "provice_name = pd.read_csv(\"/content/Province_NAME.csv\", index_col=None)\n",
        "tha_map[\"NAME\"] = provice_name[\"Province\"]\n",
        "tha_map.head()"
      ]
    },
    {
      "cell_type": "markdown",
      "metadata": {
        "id": "4IRQju7_AR7l"
      },
      "source": [
        "#### แผนที่ Broadband"
      ]
    },
    {
      "cell_type": "code",
      "execution_count": null,
      "metadata": {
        "id": "1RfmIHKuwAR6"
      },
      "outputs": [],
      "source": [
        "province_map_b_df = result_mapping_df.copy()\n",
        "province_map_b_df = province_map_b_df[province_map_b_df[\"network_type\"] == \"broadband\"]\n",
        "province_map_b_df = province_map_b_df.rename(columns={'city': 'province'})"
      ]
    },
    {
      "cell_type": "code",
      "source": [
        "median_b_df = province_map_b_df.groupby([\"province\", \"year\", \"month\", \"type\"]) \\\n",
        "    .agg(\n",
        "        median_throughput=(\"mean_throughput_mbps\", \"median\"),\n",
        "        test_count=(\"mean_throughput_mbps\", \"count\")\n",
        "    ).reset_index()"
      ],
      "metadata": {
        "id": "-JLy1063xNy9"
      },
      "execution_count": null,
      "outputs": []
    },
    {
      "cell_type": "code",
      "source": [
        "median_b_df = median_b_df.dropna()\n",
        "median_b_df = median_b_df[median_b_df[\"test_count\"] >= 30]\n",
        "median_b_df = median_b_df.compute()"
      ],
      "metadata": {
        "id": "--Bm_oAjgEYX"
      },
      "execution_count": null,
      "outputs": []
    },
    {
      "cell_type": "code",
      "execution_count": null,
      "metadata": {
        "id": "ubkYTMNKwtz1"
      },
      "outputs": [],
      "source": [
        "output_folder = \"/content/exported_maps_broadband\"\n",
        "os.makedirs(output_folder, exist_ok=True)\n",
        "\n",
        "years = median_b_df['year'].unique().tolist()\n",
        "print(years)\n",
        "vmin = median_b_df[\"median_throughput\"].quantile(0.05)\n",
        "vmax = median_b_df[\"median_throughput\"].quantile(0.95)\n",
        "\n",
        "for year in years:\n",
        "    months = sorted(median_b_df[median_b_df['year'] == year]['month'].unique())\n",
        "    print(months)\n",
        "    for month in months:\n",
        "        type_values = median_b_df[\n",
        "            (median_b_df[\"year\"] == year) & (median_b_df[\"month\"] == month)\n",
        "        ][\"type\"].unique()\n",
        "\n",
        "        for net_type in type_values:\n",
        "            filtered = median_b_df[\n",
        "                (median_b_df[\"year\"] == year) &\n",
        "                (median_b_df[\"month\"] == month) &\n",
        "                (median_b_df[\"type\"] == net_type)\n",
        "            ]\n",
        "            if filtered.empty:\n",
        "                print(f\"ไม่พบข้อมูลสำหรับ {month}/{year} - {net_type}\")\n",
        "                continue\n",
        "\n",
        "            merged_gdf = tha_map.merge(filtered, left_on=\"NAME\", right_on=\"province\", how=\"left\")\n",
        "            simplified_gdf = merged_gdf.copy()\n",
        "            simplified_gdf[\"geometry\"] = simplified_gdf[\"geometry\"].simplify(tolerance=0.05, preserve_topology=True)\n",
        "            merged_geojson = json.loads(simplified_gdf.to_json())\n",
        "\n",
        "            fig = px.choropleth(\n",
        "                simplified_gdf,\n",
        "                geojson=merged_geojson,\n",
        "                locations=\"NAME\",\n",
        "                featureidkey=\"properties.NAME\",\n",
        "                color=\"median_throughput\",\n",
        "                color_continuous_scale=\"Turbo\",\n",
        "                range_color=(vmin, vmax),\n",
        "                projection=\"mercator\",\n",
        "                title=f\"Broadband Median Throughput (Mbps) - {month}/{year} ({net_type})\",\n",
        "            )\n",
        "            fig.update_geos(fitbounds=\"locations\", visible=False)\n",
        "            fig.update_layout(width=1000, height=700, margin={\"r\":0,\"t\":50,\"l\":0,\"b\":0})\n",
        "            safe_type = net_type.lower().replace(\" \", \"_\")\n",
        "            filename = f\"{output_folder}/map_{year}_{month:02d}_{safe_type}.html\"\n",
        "            fig.write_html(filename, include_plotlyjs=\"inline\")\n",
        "            print(f\"✅ Exported {filename}\")"
      ]
    },
    {
      "cell_type": "code",
      "source": [
        "output_folder = \"/content/exported_maps_broadband_all\"\n",
        "os.makedirs(output_folder, exist_ok=True)\n",
        "\n",
        "median_b_df[\"year_month_dt\"] = pd.to_datetime(\n",
        "    median_b_df[\"year\"].astype(str) + \"-\" + median_b_df[\"month\"].astype(str).str.zfill(2)\n",
        ")\n",
        "median_b_df[\"year_month\"] = median_b_df[\"year_month_dt\"].dt.strftime(\"%Y-%m\")\n",
        "\n",
        "vmin = median_b_df[\"median_throughput\"].quantile(0.05)\n",
        "vmax = median_b_df[\"median_throughput\"].quantile(0.95)\n",
        "\n",
        "network_types = median_b_df[\"type\"].unique()\n",
        "\n",
        "for net_type in network_types:\n",
        "    filtered = median_b_df[median_b_df[\"type\"] == net_type].copy()\n",
        "    filtered = filtered.sort_values(\"year_month_dt\")\n",
        "\n",
        "    merged_gdf = tha_map.merge(filtered, left_on=\"NAME\", right_on=\"province\", how=\"left\")\n",
        "    merged_gdf[\"geometry\"] = merged_gdf[\"geometry\"].simplify(tolerance=0.05, preserve_topology=True)\n",
        "\n",
        "    merged_gdf = merged_gdf.drop(columns=[\"year_month_dt\"], errors=\"ignore\")\n",
        "\n",
        "    merged_geojson = json.loads(merged_gdf.to_json())\n",
        "\n",
        "    fig = px.choropleth(\n",
        "        merged_gdf,\n",
        "        geojson=merged_geojson,\n",
        "        locations=\"NAME\",\n",
        "        featureidkey=\"properties.NAME\",\n",
        "        color=\"median_throughput\",\n",
        "        animation_frame=\"year_month\",\n",
        "        color_continuous_scale=\"Turbo\",\n",
        "        range_color=(vmin, vmax),\n",
        "        projection=\"mercator\",\n",
        "        title=f\"Broadband Median Throughput (Mbps) ({net_type})\"\n",
        "    )\n",
        "    fig.update_geos(fitbounds=\"locations\", visible=False)\n",
        "    fig.update_layout(width=1000, height=700, margin={\"r\":0,\"t\":50,\"l\":0,\"b\":0})\n",
        "\n",
        "    safe_type = net_type.lower().replace(\" \", \"_\")\n",
        "    filename = f\"{output_folder}/map_all_months_{safe_type}_animated.html\"\n",
        "    fig.write_html(filename, include_plotlyjs=\"inline\")\n",
        "    print(f\"✅ Exported animated map: {filename}\")"
      ],
      "metadata": {
        "id": "L-5z0bECRyda"
      },
      "execution_count": null,
      "outputs": []
    },
    {
      "cell_type": "code",
      "execution_count": null,
      "metadata": {
        "id": "tKZ5hrhPNhoJ"
      },
      "outputs": [],
      "source": [
        "years = [2023, 2024, 2025]\n",
        "months_by_year = {\n",
        "    2023: [12],\n",
        "    2024: list(range(1, 13)),\n",
        "    2025: [1, 2, 3],\n",
        "}\n",
        "types_available = ['download', 'upload']\n",
        "base_path = \"/content/exported_maps_broadband\"\n",
        "\n",
        "html_widgets = {}\n",
        "\n",
        "print(\"📦 Loading and building widgets...\")\n",
        "for y in years:\n",
        "    for m in months_by_year[y]:\n",
        "        for t in types_available:\n",
        "            key = (y, m, t)\n",
        "            path = f\"{base_path}/map_{y}_{m:02d}_{t}.html\"\n",
        "            if os.path.exists(path):\n",
        "                with open(path, \"r\", encoding=\"utf-8\") as f:\n",
        "                    html = f.read()\n",
        "            else:\n",
        "                html = f\"<p style='color:red'>ไม่พบไฟล์: {path}</p>\"\n",
        "\n",
        "            html_widget = widgets.HTML(value=html, layout=widgets.Layout(display=\"none\"))\n",
        "            html_widgets[key] = html_widget\n",
        "\n",
        "print(\"✅ All widgets loaded.\")\n",
        "\n",
        "year_dropdown = widgets.Dropdown(options=years, value=2024, description='Year:')\n",
        "month_dropdown = widgets.Dropdown(options=months_by_year[2024], value=5, description='Month:')\n",
        "type_dropdown = widgets.Dropdown(options=types_available, value='download', description='Type:')\n",
        "\n",
        "\n",
        "def update_visibility():\n",
        "    for w in html_widgets.values():\n",
        "        w.layout.display = \"none\"\n",
        "    y, m, t = year_dropdown.value, month_dropdown.value, type_dropdown.value\n",
        "    key = (y, m, t)\n",
        "    if key in html_widgets:\n",
        "        html_widgets[key].layout.display = \"block\"\n",
        "\n",
        "def on_year_change(change):\n",
        "    y = change['new']\n",
        "    month_dropdown.options = months_by_year[y]\n",
        "    if month_dropdown.value not in month_dropdown.options:\n",
        "        month_dropdown.value = month_dropdown.options[0]\n",
        "    update_visibility()\n",
        "\n",
        "year_dropdown.observe(on_year_change, names='value')\n",
        "month_dropdown.observe(lambda change: update_visibility(), names='value')\n",
        "type_dropdown.observe(lambda change: update_visibility(), names='value')\n",
        "\n",
        "ui = widgets.HBox([year_dropdown, month_dropdown, type_dropdown])\n",
        "all_maps_box = widgets.VBox(list(html_widgets.values()))\n",
        "display(ui, all_maps_box)\n",
        "update_visibility()"
      ]
    },
    {
      "cell_type": "markdown",
      "metadata": {
        "id": "2KPwM39SAhNV"
      },
      "source": [
        "#### แผนที่ Cellular"
      ]
    },
    {
      "cell_type": "code",
      "execution_count": null,
      "metadata": {
        "id": "dCkOeWjcA_7c"
      },
      "outputs": [],
      "source": [
        "province_map_m_df = result_mapping_df.copy()\n",
        "province_map_m_df = province_map_m_df[province_map_m_df[\"network_type\"] == \"cellular\"]\n",
        "province_map_m_df = province_map_m_df.rename(columns={'city': 'province'})"
      ]
    },
    {
      "cell_type": "code",
      "source": [
        "median_m_df = province_map_m_df.groupby([\"province\", \"year\", \"month\", \"type\"]) \\\n",
        "    .agg(\n",
        "        median_throughput=(\"mean_throughput_mbps\", \"median\"),\n",
        "        test_count=(\"mean_throughput_mbps\", \"count\")\n",
        "    ).reset_index()"
      ],
      "metadata": {
        "id": "jke2FqB8ouer"
      },
      "execution_count": null,
      "outputs": []
    },
    {
      "cell_type": "code",
      "source": [
        "median_m_df = median_m_df.dropna()\n",
        "median_m_df = median_m_df[median_m_df[\"test_count\"] >= 30]\n",
        "median_m_df = median_m_df.compute()"
      ],
      "metadata": {
        "id": "xpu2g3TCo12J"
      },
      "execution_count": null,
      "outputs": []
    },
    {
      "cell_type": "code",
      "execution_count": null,
      "metadata": {
        "id": "8G7YWFA84hNd"
      },
      "outputs": [],
      "source": [
        "output_folder = \"/content/exported_maps_mobile\"\n",
        "os.makedirs(output_folder, exist_ok=True)\n",
        "\n",
        "vmin = median_m_df[\"median_throughput\"].min()\n",
        "vmax = median_m_df[\"median_throughput\"].max()\n",
        "\n",
        "years = median_m_df['year'].unique().tolist()\n",
        "for year in years:\n",
        "    months = sorted(median_m_df[median_m_df['year'] == year]['month'].unique())\n",
        "    for month in months:\n",
        "        type_values =  median_m_df[\n",
        "            (median_m_df[\"year\"] == year) & (median_m_df[\"month\"] == month)\n",
        "        ][\"type\"].unique()\n",
        "\n",
        "        for net_type in type_values:\n",
        "            filtered = median_m_df[\n",
        "                (median_m_df[\"year\"] == year) &\n",
        "                (median_m_df[\"month\"] == month) &\n",
        "                (median_m_df[\"type\"] == net_type)\n",
        "            ]\n",
        "            if filtered.empty:\n",
        "                print(f\"ไม่พบข้อมูลสำหรับ {month}/{year} - {net_type}\")\n",
        "                continue\n",
        "\n",
        "            merged_gdf = tha_map.merge(filtered, left_on=\"NAME\", right_on=\"province\", how=\"left\")\n",
        "            simplified_gdf = merged_gdf.copy()\n",
        "            simplified_gdf[\"geometry\"] = simplified_gdf[\"geometry\"].simplify(tolerance=0.05, preserve_topology=True)\n",
        "            merged_geojson = json.loads(simplified_gdf.to_json())\n",
        "\n",
        "            fig = px.choropleth(\n",
        "                simplified_gdf,\n",
        "                geojson=merged_geojson,\n",
        "                locations=\"NAME\",\n",
        "                featureidkey=\"properties.NAME\",\n",
        "                color=\"median_throughput\",\n",
        "                color_continuous_scale=\"Turbo\",\n",
        "                range_color=(vmin, vmax),\n",
        "                projection=\"mercator\",\n",
        "                title=f\"Cellular Mean Throughput (Mbps) - {month}/{year} ({net_type})\"\n",
        "            )\n",
        "            fig.update_geos(fitbounds=\"locations\", visible=False)\n",
        "            fig.update_layout(width=1000, height=700, margin={\"r\":0,\"t\":50,\"l\":0,\"b\":0})\n",
        "\n",
        "            safe_type = net_type.lower().replace(\" \", \"_\")\n",
        "            filename = f\"{output_folder}/map_{year}_{month:02d}_{safe_type}.html\"\n",
        "            fig.write_html(filename)\n",
        "            print(f\"✅ Exported {filename}\")"
      ]
    },
    {
      "cell_type": "code",
      "source": [
        "output_folder = \"/content/exported_maps_cellular_all\"\n",
        "os.makedirs(output_folder, exist_ok=True)\n",
        "\n",
        "median_m_df[\"year_month\"] = median_m_df.apply(lambda row: f\"{row['year']}-{int(row['month']):02d}\", axis=1)\n",
        "\n",
        "vmin = median_m_df[\"median_throughput\"].quantile(0.05)\n",
        "vmax = median_m_df[\"median_throughput\"].quantile(0.95)\n",
        "\n",
        "network_types = median_b_df[\"type\"].unique()\n",
        "\n",
        "for net_type in network_types:\n",
        "    filtered = median_m_df[median_m_df[\"type\"] == net_type]\n",
        "    if filtered.empty:\n",
        "        print(f\"ไม่พบข้อมูลสำหรับ {net_type}\")\n",
        "        continue\n",
        "\n",
        "    merged_gdf = tha_map.merge(filtered, left_on=\"NAME\", right_on=\"province\", how=\"left\")\n",
        "    merged_gdf[\"geometry\"] = merged_gdf[\"geometry\"].simplify(tolerance=0.05, preserve_topology=True)\n",
        "    merged_geojson = json.loads(merged_gdf.to_json())\n",
        "\n",
        "    fig = px.choropleth(\n",
        "        merged_gdf,\n",
        "        geojson=merged_geojson,\n",
        "        locations=\"NAME\",\n",
        "        featureidkey=\"properties.NAME\",\n",
        "        color=\"median_throughput\",\n",
        "        animation_frame=\"year_month\",\n",
        "        color_continuous_scale=\"Turbo\",\n",
        "        range_color=(vmin, vmax),\n",
        "        projection=\"mercator\",\n",
        "        title=f\"Cellular Median Throughput (Mbps) ({net_type})\"\n",
        "    )\n",
        "    fig.update_geos(fitbounds=\"locations\", visible=False)\n",
        "    fig.update_layout(width=1000, height=700, margin={\"r\":0,\"t\":50,\"l\":0,\"b\":0})\n",
        "\n",
        "    safe_type = net_type.lower().replace(\" \", \"_\")\n",
        "    filename = f\"{output_folder}/map_all_months_{safe_type}_animated.html\"\n",
        "    fig.write_html(filename, include_plotlyjs=\"inline\")\n",
        "    print(f\"✅ Exported animated map: {filename}\")"
      ],
      "metadata": {
        "id": "jus-XLNDSvrd"
      },
      "execution_count": null,
      "outputs": []
    },
    {
      "cell_type": "code",
      "source": [
        "output_folder = \"/content/exported_maps_cellular_all\"\n",
        "os.makedirs(output_folder, exist_ok=True)\n",
        "\n",
        "median_m_df[\"year_month_dt\"] = pd.to_datetime(\n",
        "    median_m_df[\"year\"].astype(str) + \"-\" + median_m_df[\"month\"].astype(str).str.zfill(2)\n",
        ")\n",
        "median_m_df[\"year_month\"] = median_m_df[\"year_month_dt\"].dt.strftime(\"%Y-%m\")\n",
        "\n",
        "vmin = median_m_df[\"median_throughput\"].quantile(0.05)\n",
        "vmax = median_m_df[\"median_throughput\"].quantile(0.95)\n",
        "\n",
        "network_types = median_b_df[\"type\"].unique()\n",
        "\n",
        "for net_type in network_types:\n",
        "    filtered = median_m_df[median_m_df[\"type\"] == net_type].copy()\n",
        "    filtered = filtered.sort_values(\"year_month_dt\")\n",
        "\n",
        "    merged_gdf = tha_map.merge(filtered, left_on=\"NAME\", right_on=\"province\", how=\"left\")\n",
        "    merged_gdf[\"geometry\"] = merged_gdf[\"geometry\"].simplify(tolerance=0.05, preserve_topology=True)\n",
        "\n",
        "    merged_gdf = merged_gdf.drop(columns=[\"year_month_dt\"], errors=\"ignore\")\n",
        "\n",
        "    merged_geojson = json.loads(merged_gdf.to_json())\n",
        "\n",
        "    fig = px.choropleth(\n",
        "        merged_gdf,\n",
        "        geojson=merged_geojson,\n",
        "        locations=\"NAME\",\n",
        "        featureidkey=\"properties.NAME\",\n",
        "        color=\"median_throughput\",\n",
        "        animation_frame=\"year_month\",\n",
        "        color_continuous_scale=\"Turbo\",\n",
        "        range_color=(vmin, vmax),\n",
        "        projection=\"mercator\",\n",
        "        title=f\"Cellular Median Throughput (Mbps) ({net_type})\"\n",
        "    )\n",
        "    fig.update_geos(fitbounds=\"locations\", visible=False)\n",
        "    fig.update_layout(width=1000, height=700, margin={\"r\":0,\"t\":50,\"l\":0,\"b\":0})\n",
        "\n",
        "    safe_type = net_type.lower().replace(\" \", \"_\")\n",
        "    filename = f\"{output_folder}/map_all_months_{safe_type}_animated.html\"\n",
        "    fig.write_html(filename, include_plotlyjs=\"inline\")\n",
        "    print(f\"✅ Exported animated map: {filename}\")"
      ],
      "metadata": {
        "id": "LHLgmMN-ZEMO"
      },
      "execution_count": null,
      "outputs": []
    },
    {
      "cell_type": "code",
      "execution_count": null,
      "metadata": {
        "id": "l_gTC36i9C-t"
      },
      "outputs": [],
      "source": [
        "years = [2023, 2024, 2025]\n",
        "months_by_year = {\n",
        "    2023: [12],\n",
        "    2024: list(range(1, 13)),\n",
        "    2025: [1, 2, 3],\n",
        "}\n",
        "types_available = ['download', 'upload']\n",
        "base_path = \"/content/exported_maps_mobile\"\n",
        "\n",
        "html_widgets = {}\n",
        "\n",
        "print(\"📦 Loading and building widgets...\")\n",
        "for y in years:\n",
        "    for m in months_by_year[y]:\n",
        "        for t in types_available:\n",
        "            key = (y, m, t)\n",
        "            path = f\"{base_path}/map_{y}_{m:02d}_{t}.html\"\n",
        "            if os.path.exists(path):\n",
        "                with open(path, \"r\", encoding=\"utf-8\") as f:\n",
        "                    html = f.read()\n",
        "            else:\n",
        "                html = f\"<p style='color:red'>ไม่พบไฟล์: {path}</p>\"\n",
        "\n",
        "            html_widget = widgets.HTML(value=html, layout=widgets.Layout(display=\"none\"))\n",
        "            html_widgets[key] = html_widget\n",
        "\n",
        "print(\"✅ All widgets loaded.\")\n",
        "\n",
        "year_dropdown = widgets.Dropdown(options=years, value=2024, description='Year:')\n",
        "month_dropdown = widgets.Dropdown(options=months_by_year[2024], value=5, description='Month:')\n",
        "type_dropdown = widgets.Dropdown(options=types_available, value='download', description='Type:')\n",
        "\n",
        "\n",
        "def update_visibility():\n",
        "    for w in html_widgets.values():\n",
        "        w.layout.display = \"none\"\n",
        "    y, m, t = year_dropdown.value, month_dropdown.value, type_dropdown.value\n",
        "    key = (y, m, t)\n",
        "    if key in html_widgets:\n",
        "        html_widgets[key].layout.display = \"block\"\n",
        "\n",
        "def on_year_change(change):\n",
        "    y = change['new']\n",
        "    month_dropdown.options = months_by_year[y]\n",
        "    if month_dropdown.value not in month_dropdown.options:\n",
        "        month_dropdown.value = month_dropdown.options[0]\n",
        "    update_visibility()\n",
        "\n",
        "year_dropdown.observe(on_year_change, names='value')\n",
        "month_dropdown.observe(lambda change: update_visibility(), names='value')\n",
        "type_dropdown.observe(lambda change: update_visibility(), names='value')\n",
        "\n",
        "ui = widgets.HBox([year_dropdown, month_dropdown, type_dropdown])\n",
        "all_maps_box = widgets.VBox(list(html_widgets.values()))\n",
        "display(ui, all_maps_box)\n",
        "update_visibility()"
      ]
    },
    {
      "cell_type": "markdown",
      "source": [
        "### RTT (Server ที่ใช้เยอะที่สุด)"
      ],
      "metadata": {
        "id": "M-pG2hm55-fr"
      }
    },
    {
      "cell_type": "code",
      "source": [
        "server_counts = result_mapping_df.groupby('server_ip').size().compute().sort_values(ascending=False)\n",
        "top_server_ip = server_counts.idxmax()\n",
        "top_server_count = server_counts.max()\n",
        "print(\"Top server IP:\", top_server_ip)\n",
        "print(\"Number of tests:\", top_server_count)"
      ],
      "metadata": {
        "id": "fhpBHfku6GFy"
      },
      "execution_count": null,
      "outputs": []
    },
    {
      "cell_type": "code",
      "source": [
        "rtt_df = result_mapping_df[result_mapping_df[\"server_ip\"] == top_server_ip]\n",
        "rtt_df = rtt_df.groupby(['city', 'type', 'network_type']).agg({\n",
        "    'loss_rate': ['mean'],\n",
        "    'min_rtt': ['mean'],\n",
        "}).reset_index()"
      ],
      "metadata": {
        "id": "-CVL-a1rzvEu"
      },
      "execution_count": null,
      "outputs": []
    },
    {
      "cell_type": "code",
      "source": [
        "rtt_df = rtt_df.dropna(subset=[('min_rtt', 'mean')])"
      ],
      "metadata": {
        "id": "zQ2nZlSJ0krj"
      },
      "execution_count": null,
      "outputs": []
    },
    {
      "cell_type": "code",
      "source": [
        "rtt_df.columns = ['_'.join(col).strip('_') if isinstance(col, tuple) else col for col in rtt_df.columns]"
      ],
      "metadata": {
        "id": "pBCvXUl7fHaX"
      },
      "execution_count": null,
      "outputs": []
    },
    {
      "cell_type": "code",
      "source": [
        "rtt_df = rtt_df.compute()"
      ],
      "metadata": {
        "id": "kwNsN673uNI3"
      },
      "execution_count": null,
      "outputs": []
    },
    {
      "cell_type": "code",
      "source": [
        "import matplotlib.pyplot as plt\n",
        "import seaborn as sns\n",
        "from matplotlib.ticker import ScalarFormatter\n",
        "\n",
        "def format_k(x):\n",
        "    return f\"{x/1000:.1f}k\" if x >= 1000 else f\"{x:.0f}\"\n",
        "\n",
        "fig, axes = plt.subplots(2, 2, figsize=(28, 16))\n",
        "\n",
        "configs = [\n",
        "    (\"broadband\", \"download\", axes[0, 0], \"skyblue\"),\n",
        "    (\"broadband\", \"upload\", axes[0, 1], \"salmon\"),\n",
        "    (\"cellular\", \"download\", axes[1, 0], \"skyblue\"),\n",
        "    (\"cellular\", \"upload\", axes[1, 1], \"salmon\"),\n",
        "]\n",
        "\n",
        "for net_type, traffic_type, ax, color in configs:\n",
        "    subset = rtt_df[\n",
        "        (rtt_df[\"network_type\"] == net_type) &\n",
        "        (rtt_df[\"type\"] == traffic_type)\n",
        "    ].sort_values(\"min_rtt_mean\")\n",
        "\n",
        "    bars = sns.barplot(\n",
        "        data=subset,\n",
        "        x=\"city\",\n",
        "        y=\"min_rtt_mean\",\n",
        "        ax=ax,\n",
        "        color=color\n",
        "    )\n",
        "\n",
        "    ax.set_yscale(\"log\")\n",
        "\n",
        "    formatter = ScalarFormatter(useMathText=True)\n",
        "    formatter.set_powerlimits((0, 0))\n",
        "    ax.yaxis.set_major_formatter(formatter)\n",
        "\n",
        "    ax.set_title(\n",
        "        f\"Mean RTT by Province\\n({net_type.title()} - {traffic_type.title()})\",\n",
        "        fontsize=18\n",
        "    )\n",
        "    ax.set_xlabel(\"Province\", fontsize=14)\n",
        "    ax.set_ylabel(\"Mean RTT (ms)\", fontsize=14)\n",
        "    ax.tick_params(axis='x', rotation=90, labelsize=10)\n",
        "    ax.tick_params(axis='y', labelsize=12)\n",
        "\n",
        "    for container in ax.containers:\n",
        "      for bar in container:\n",
        "          height = bar.get_height()\n",
        "          if height > 0:\n",
        "              ax.text(\n",
        "                  bar.get_x() + bar.get_width() / 2,\n",
        "                  height * 1.1,\n",
        "                  f\"{format_k(height)}\",\n",
        "                  ha='center',\n",
        "                  va='bottom',\n",
        "                  fontsize=8\n",
        "              )\n",
        "\n",
        "plt.tight_layout()\n",
        "plt.show()"
      ],
      "metadata": {
        "id": "hm7DVy16epN7"
      },
      "execution_count": null,
      "outputs": []
    },
    {
      "cell_type": "markdown",
      "source": [
        "### Loss Rate"
      ],
      "metadata": {
        "id": "vQ_EADTFDYak"
      }
    },
    {
      "cell_type": "code",
      "source": [
        "import matplotlib.pyplot as plt\n",
        "import seaborn as sns\n",
        "from matplotlib.ticker import ScalarFormatter\n",
        "\n",
        "fig, axes = plt.subplots(2, 2, figsize=(28, 16))\n",
        "\n",
        "configs = [\n",
        "    (\"broadband\", \"download\", axes[0, 0], \"skyblue\"),\n",
        "    (\"broadband\", \"upload\", axes[0, 1], \"salmon\"),\n",
        "    (\"cellular\", \"download\", axes[1, 0], \"skyblue\"),\n",
        "    (\"cellular\", \"upload\", axes[1, 1], \"salmon\"),\n",
        "]\n",
        "\n",
        "for net_type, traffic_type, ax, color in configs:\n",
        "    subset = rtt_df[\n",
        "        (rtt_df[\"network_type\"] == net_type) &\n",
        "        (rtt_df[\"type\"] == traffic_type)\n",
        "    ].sort_values(\"loss_rate_mean\")\n",
        "\n",
        "    bars = sns.barplot(\n",
        "        data=subset,\n",
        "        x=\"city\",\n",
        "        y=\"loss_rate_mean\",\n",
        "        ax=ax,\n",
        "        color=color\n",
        "    )\n",
        "\n",
        "    ax.set_title(\n",
        "        f\"Mean Loss Rate by Province\\n({net_type.title()} - {traffic_type.title()})\",\n",
        "        fontsize=18\n",
        "    )\n",
        "    ax.set_xlabel(\"Province\", fontsize=14)\n",
        "    ax.set_ylabel(\"Mean Loss Rate\", fontsize=14)\n",
        "    ax.tick_params(axis='x', rotation=90, labelsize=10)\n",
        "    ax.tick_params(axis='y', labelsize=12)\n",
        "\n",
        "    for container in ax.containers:\n",
        "      for bar in container:\n",
        "          height = bar.get_height()\n",
        "          if height > 0:\n",
        "              ax.text(\n",
        "                  bar.get_x() + bar.get_width() / 2,\n",
        "                  height + 0.001,\n",
        "                  f\"{height:.2f}\",\n",
        "                  ha='center',\n",
        "                  va='bottom',\n",
        "                  fontsize=8,\n",
        "                  rotation=45\n",
        "              )\n",
        "\n",
        "plt.tight_layout()\n",
        "plt.show()"
      ],
      "metadata": {
        "id": "HpsMlduSgVO2"
      },
      "execution_count": null,
      "outputs": []
    },
    {
      "cell_type": "markdown",
      "metadata": {
        "id": "uKR6Ox9MHPnC"
      },
      "source": [
        "### ผู้ให้บริการอินเตอร์เน็ตบรอดแบนด์ (ทั่วไป)"
      ]
    },
    {
      "cell_type": "code",
      "execution_count": null,
      "metadata": {
        "id": "8FOvASjqKYJK"
      },
      "outputs": [],
      "source": [
        "province_network_type_df = result_mapping_df.copy()\n",
        "\n",
        "province_network_type_df = province_network_type_df.dropna(subset=[\"city\"])\n",
        "province_network_type_df = province_network_type_df[province_network_type_df[\"category\"] == \"Consumer Broadband\"]"
      ]
    },
    {
      "cell_type": "code",
      "execution_count": null,
      "metadata": {
        "id": "XNb_zAoyrcDx"
      },
      "outputs": [],
      "source": [
        "province_network_type_df = province_network_type_df.groupby(['city', 'type', 'description']).agg(\n",
        "    median_throughput=(\"mean_throughput_mbps\", \"median\"),\n",
        "    test_count=(\"mean_throughput_mbps\", \"count\")\n",
        ").dropna().reset_index()"
      ]
    },
    {
      "cell_type": "code",
      "execution_count": null,
      "metadata": {
        "id": "jIws23r91cbN"
      },
      "outputs": [],
      "source": [
        "throughput_pivot = province_network_type_df.pivot_table(\n",
        "    index=\"city\",\n",
        "    columns=[\"type\", \"description\"],\n",
        "    values=\"median_throughput\",\n",
        ")\n",
        "throughput_pivot[throughput_pivot[\"city\"] == \"Mae Hong Son\"]"
      ]
    },
    {
      "cell_type": "code",
      "execution_count": null,
      "metadata": {
        "id": "cK7zxgHxLkOu"
      },
      "outputs": [],
      "source": [
        "top_cities = throughput_pivot.xs(\"download\", level=\"type\", axis=1).mean(axis=1).nlargest(15).index\n",
        "throughput_download = throughput_pivot.xs(\"download\", level=\"type\", axis=1).loc[top_cities]\n",
        "\n",
        "fig, ax = plt.subplots(figsize=(18, 10))\n",
        "sns.heatmap(throughput_download, cmap=\"Blues\", annot=True, fmt=\".1f\", linewidths=3, ax=ax)\n",
        "ax.set_title(\"Heatmap of Broadband Median Speed by Province and ISP (Download)\", fontsize=16)\n",
        "ax.set_xlabel(\"ISP\", fontsize=14)\n",
        "ax.set_ylabel(\"Province\", fontsize=14)\n",
        "plt.xticks(rotation=45, ha='right', fontsize=12)\n",
        "plt.yticks(fontsize=12)\n",
        "plt.tight_layout()\n",
        "plt.show()\n",
        "\n",
        "top_cities = throughput_pivot.xs(\"upload\", level=\"type\", axis=1).mean(axis=1).nlargest(15).index\n",
        "throughput_upload = throughput_pivot.xs(\"upload\", level=\"type\", axis=1).loc[top_cities]\n",
        "\n",
        "fig, ax = plt.subplots(figsize=(18, 10))\n",
        "sns.heatmap(throughput_upload, cmap=\"Oranges\", annot=True, fmt=\".1f\", linewidths=3, ax=ax)\n",
        "ax.set_title(\"Heatmap of Broadband Median Speed by Province and ISP (Upload)\", fontsize=16)\n",
        "ax.set_xlabel(\"ISP\", fontsize=14)\n",
        "ax.set_ylabel(\"Province\", fontsize=14)\n",
        "plt.xticks(rotation=45, ha='right', fontsize=12)\n",
        "plt.yticks(fontsize=12)\n",
        "plt.tight_layout()\n",
        "plt.show()\n"
      ]
    },
    {
      "cell_type": "code",
      "execution_count": null,
      "metadata": {
        "id": "GO8AF-ZJQLLI"
      },
      "outputs": [],
      "source": [
        "throughput_download = throughput_pivot.xs(\"download\", level=\"type\", axis=1)\n",
        "throughput_upload = throughput_pivot.xs(\"upload\", level=\"type\", axis=1)\n",
        "\n",
        "fig, ax = plt.subplots(figsize=(18, 30))\n",
        "sns.heatmap(throughput_download, cmap=\"Blues\", annot=True, fmt=\".1f\", linewidths=3, ax=ax)\n",
        "ax.set_title(\"Heatmap of Broadband Median Speed by Province and ISP (Download)\", fontsize=16)\n",
        "ax.set_xlabel(\"ISP\", fontsize=14)\n",
        "ax.set_ylabel(\"Province\", fontsize=14)\n",
        "plt.xticks(rotation=45, ha='right', fontsize=12)\n",
        "plt.yticks(fontsize=12)\n",
        "plt.tight_layout()\n",
        "plt.show()\n",
        "\n",
        "fig, ax = plt.subplots(figsize=(18, 30))\n",
        "sns.heatmap(throughput_upload, cmap=\"Oranges\", annot=True, fmt=\".1f\", linewidths=3, ax=ax)\n",
        "ax.set_title(\"Heatmap of Broadband Median Speed by Province and ISP (Upload)\", fontsize=16)\n",
        "ax.set_xlabel(\"ISP\", fontsize=14)\n",
        "ax.set_ylabel(\"Province\", fontsize=14)\n",
        "plt.xticks(rotation=45, ha='right', fontsize=12)\n",
        "plt.yticks(fontsize=12)\n",
        "plt.tight_layout()\n",
        "plt.show()"
      ]
    },
    {
      "cell_type": "markdown",
      "metadata": {
        "id": "HBkTlbglM467"
      },
      "source": [
        "### ผู้ให้บริการอินเตอร์เน็ตมือถือ"
      ]
    },
    {
      "cell_type": "code",
      "execution_count": null,
      "metadata": {
        "id": "4MgH84XVM468"
      },
      "outputs": [],
      "source": [
        "province_network_type_df = result_mapping_df.copy()\n",
        "\n",
        "province_network_type_df = province_network_type_df.dropna(subset=[\"city\"])\n",
        "province_network_type_df = province_network_type_df[province_network_type_df[\"category\"] == \"Mobile\"]"
      ]
    },
    {
      "cell_type": "code",
      "execution_count": null,
      "metadata": {
        "id": "Xrz4utKOM469"
      },
      "outputs": [],
      "source": [
        "province_network_type_df = province_network_type_df.groupby(['city', 'type', 'description']).agg(\n",
        "    median_throughput=(\"mean_throughput_mbps\", \"median\"),\n",
        "    test_count=(\"mean_throughput_mbps\", \"count\")\n",
        ").dropna().compute().reset_index()\n",
        "province_network_type_df.head()"
      ]
    },
    {
      "cell_type": "code",
      "source": [
        "province_network_type_df = province_network_type_df[province_network_type_df[\"test_count\"] >= 30]"
      ],
      "metadata": {
        "id": "ORHdguVGg3uV"
      },
      "execution_count": null,
      "outputs": []
    },
    {
      "cell_type": "code",
      "execution_count": null,
      "metadata": {
        "id": "O_HCv55MM46-"
      },
      "outputs": [],
      "source": [
        "throughput_pivot = province_network_type_df.pivot_table(\n",
        "    index=\"city\",\n",
        "    columns=[\"type\", \"description\"],\n",
        "    values=\"median_throughput\",\n",
        ")\n",
        "throughput_pivot"
      ]
    },
    {
      "cell_type": "code",
      "execution_count": null,
      "metadata": {
        "id": "Ju0JnofjM46-"
      },
      "outputs": [],
      "source": [
        "top_cities = throughput_pivot.xs(\"download\", level=\"type\", axis=1).mean(axis=1).nlargest(15).index\n",
        "throughput_download = throughput_pivot.xs(\"download\", level=\"type\", axis=1).loc[top_cities]\n",
        "\n",
        "fig, ax = plt.subplots(figsize=(18, 10))\n",
        "sns.heatmap(throughput_download, cmap=\"Blues\", annot=True, fmt=\".1f\", linewidths=3, ax=ax)\n",
        "ax.set_title(\"Heatmap of Cellular Median Speed by Province and ISP (Download)\", fontsize=16)\n",
        "ax.set_xlabel(\"ISP\", fontsize=14)\n",
        "ax.set_ylabel(\"Province\", fontsize=14)\n",
        "plt.xticks(rotation=45, ha='right', fontsize=12)\n",
        "plt.yticks(fontsize=12)\n",
        "plt.tight_layout()\n",
        "plt.show()\n",
        "\n",
        "top_cities = throughput_pivot.xs(\"upload\", level=\"type\", axis=1).mean(axis=1).nlargest(15).index\n",
        "throughput_upload = throughput_pivot.xs(\"upload\", level=\"type\", axis=1).loc[top_cities]\n",
        "\n",
        "fig, ax = plt.subplots(figsize=(18, 10))\n",
        "sns.heatmap(throughput_upload, cmap=\"Oranges\", annot=True, fmt=\".1f\", linewidths=3, ax=ax)\n",
        "ax.set_title(\"Heatmap of Upload Median Speed by Province and ISP (Upload)\", fontsize=16)\n",
        "ax.set_xlabel(\"ISP\", fontsize=14)\n",
        "ax.set_ylabel(\"Province\", fontsize=14)\n",
        "plt.xticks(rotation=45, ha='right', fontsize=12)\n",
        "plt.yticks(fontsize=12)\n",
        "plt.tight_layout()\n",
        "plt.show()\n"
      ]
    },
    {
      "cell_type": "code",
      "execution_count": null,
      "metadata": {
        "id": "y_lh8UMzPPUw"
      },
      "outputs": [],
      "source": [
        "throughput_download = throughput_pivot.xs(\"download\", level=\"type\", axis=1)\n",
        "throughput_upload = throughput_pivot.xs(\"upload\", level=\"type\", axis=1)\n",
        "\n",
        "fig, ax = plt.subplots(figsize=(18, 20))\n",
        "sns.heatmap(throughput_download, cmap=\"Blues\", annot=True, fmt=\".1f\", linewidths=3, ax=ax)\n",
        "ax.set_title(\"Heatmap of Cellular Median Speed by Province and ISP (Download)\", fontsize=16)\n",
        "ax.set_xlabel(\"ISP\", fontsize=14)\n",
        "ax.set_ylabel(\"Province\", fontsize=14)\n",
        "plt.xticks(rotation=45, ha='right', fontsize=12)\n",
        "plt.yticks(fontsize=12)\n",
        "plt.tight_layout()\n",
        "plt.show()\n",
        "\n",
        "fig, ax = plt.subplots(figsize=(18, 20))\n",
        "sns.heatmap(throughput_upload, cmap=\"Oranges\", annot=True, fmt=\".1f\", linewidths=3, ax=ax)\n",
        "ax.set_title(\"Heatmap of Cellular Median Speed by Province and ISP (Upload)\", fontsize=16)\n",
        "ax.set_xlabel(\"ISP\", fontsize=14)\n",
        "ax.set_ylabel(\"Province\", fontsize=14)\n",
        "plt.xticks(rotation=45, ha='right', fontsize=12)\n",
        "plt.yticks(fontsize=12)\n",
        "plt.tight_layout()\n",
        "plt.show()"
      ]
    }
  ],
  "metadata": {
    "colab": {
      "machine_shape": "hm",
      "provenance": [],
      "toc_visible": true,
      "collapsed_sections": [
        "BVMTMFwej4xZ"
      ],
      "include_colab_link": true
    },
    "kernelspec": {
      "display_name": "Python 3",
      "name": "python3"
    }
  },
  "nbformat": 4,
  "nbformat_minor": 0
}